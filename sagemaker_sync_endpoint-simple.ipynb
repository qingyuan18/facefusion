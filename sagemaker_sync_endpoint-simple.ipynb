{
 "cells": [
  {
   "cell_type": "markdown",
   "id": "096b3004",
   "metadata": {},
   "source": [
    "# Facefusion on Sagemaker"
   ]
  },
  {
   "cell_type": "markdown",
   "id": "21ec2e51",
   "metadata": {
    "tags": []
   },
   "source": [
    "## build image"
   ]
  },
  {
   "cell_type": "code",
   "execution_count": 1,
   "id": "07fd36b7",
   "metadata": {
    "tags": []
   },
   "outputs": [
    {
     "name": "stdout",
     "output_type": "stream",
     "text": [
      "  Attempting uninstall: matplotlib\n",
      "    Found existing installation: matplotlib 3.7.1\n",
      "    Uninstalling matplotlib-3.7.1:\n",
      "      Successfully uninstalled matplotlib-3.7.1\n",
      "  Attempting uninstall: scipy\n",
      "    Found existing installation: scipy 1.10.1\n",
      "    Uninstalling scipy-1.10.1:\n",
      "      Successfully uninstalled scipy-1.10.1\n",
      "  Attempting uninstall: psutil\n",
      "    Found existing installation: psutil 5.9.4\n",
      "    Uninstalling psutil-5.9.4:\n",
      "      Successfully uninstalled psutil-5.9.4\n",
      "  Attempting uninstall: onnx\n",
      "    Found existing installation: onnx 1.13.1\n",
      "    Uninstalling onnx-1.13.1:\n",
      "      Successfully uninstalled onnx-1.13.1\n",
      "\u001b[91mERROR: pip's dependency resolver does not currently take into account all the packages that are installed. This behaviour is the source of the following dependency conflicts.\n",
      "thinc 8.1.10 requires pydantic!=1.8,!=1.8.1,<1.11.0,>=1.7.4, but you have pydantic 2.9.2 which is incompatible.\n",
      "spacy 3.5.3 requires pydantic!=1.8,!=1.8.1,<1.11.0,>=1.7.4, but you have pydantic 2.9.2 which is incompatible.\n",
      "sagemaker 2.232.1 requires attrs<24,>=23.1.0, but you have attrs 24.2.0 which is incompatible.\n",
      "sagemaker 2.232.1 requires protobuf<5.0,>=3.12, but you have protobuf 5.28.2 which is incompatible.\n",
      "numba 0.56.4+1.g5f1bc7084 requires numpy<1.24,>=1.18, but you have numpy 1.26.4 which is incompatible.\n",
      "google-auth 2.20.0 requires urllib3<2.0, but you have urllib3 2.2.3 which is incompatible.\n",
      "dask-cudf 23.4.0 requires pandas<1.6.0dev0,>=1.3, but you have pandas 2.2.3 which is incompatible.\n",
      "dask-cuda 23.4.0 requires pandas<1.6.0dev0,>=1.3, but you have pandas 2.2.3 which is incompatible.\n",
      "cupy-cuda12x 12.0.0b3 requires numpy<1.26,>=1.20, but you have numpy 1.26.4 which is incompatible.\n",
      "cudf 23.4.0 requires pandas<1.6.0dev0,>=1.3, but you have pandas 2.2.3 which is incompatible.\n",
      "cudf 23.4.0 requires protobuf==3.20.3, but you have protobuf 5.28.2 which is incompatible.\n",
      "confection 0.0.4 requires pydantic!=1.8,!=1.8.1,<1.11.0,>=1.7.4, but you have pydantic 2.9.2 which is incompatible.\n",
      "WARNING: Running pip as the 'root' user can result in broken permissions and conflicting behaviour with the system package manager. It is recommended to use a virtual environment instead: https://pip.pypa.io/warnings/venv\n",
      "\u001b[0mSuccessfully installed aiofiles-23.2.1 altair-5.4.1 annotated-types-0.7.0 anyio-4.6.0 attrs-24.2.0 certifi-2024.8.30 charset-normalizer-3.3.2 click-8.1.7 coloredlogs-15.0.1 contourpy-1.3.0 cycler-0.12.1 exceptiongroup-1.2.2 fastapi-0.115.0 ffmpy-0.4.0 filelock-3.16.1 filetype-1.2.0 flatbuffers-24.3.25 fonttools-4.54.1 fsspec-2024.9.0 gradio-3.50.2 gradio-client-0.6.1 h11-0.14.0 httpcore-1.0.5 httpx-0.27.2 huggingface-hub-0.25.1 humanfriendly-10.0 idna-3.10 importlib-resources-6.4.5 jinja2-3.1.4 jsonschema-4.23.0 jsonschema-specifications-2023.12.1 kiwisolver-1.4.7 markupsafe-2.1.5 matplotlib-3.9.2 mpmath-1.3.0 narwhals-1.8.4 numpy-1.26.4 onnx-1.16.0 onnxruntime-1.17.3 opencv-python-4.9.0.80 orjson-3.10.7 packaging-24.1 pandas-2.2.3 pillow-10.4.0 protobuf-5.28.2 psutil-5.9.8 pydantic-2.9.2 pydantic-core-2.23.4 pydub-0.25.1 pyparsing-3.1.4 python-dateutil-2.9.0.post0 python-multipart-0.0.12 pytz-2024.2 pyyaml-6.0.2 referencing-0.35.1 requests-2.32.3 rpds-py-0.20.0 scipy-1.13.0 semantic-version-2.10.0 six-1.16.0 sniffio-1.3.1 starlette-0.38.6 sympy-1.13.3 tqdm-4.66.4 typing-extensions-4.12.2 tzdata-2024.2 urllib3-2.2.3 uvicorn-0.31.0 websockets-11.0.3\n",
      "\u001b[91mWARNING: You are using pip version 21.2.4; however, version 24.2 is available.\n",
      "You should consider upgrading via the '/usr/bin/python -m pip install --upgrade pip' command.\n",
      "\u001b[0m\u001b[91mWARNING: Value for bin_prefix does not match. Please report this to <https://github.com/pypa/pip/issues/10151>\n",
      "distutils: /usr/bin\n",
      "sysconfig: /usr/local/bin\n",
      "WARNING: Additional context:\n",
      "user = False\n",
      "home = None\n",
      "root = None\n",
      "prefix = None\n",
      "\u001b[0m\u001b[91mWARNING: Skipping onnxruntime-gpu as it is not installed.\n",
      "\u001b[0m\u001b[91mWARNING: Running pip as the 'root' user can result in broken permissions and conflicting behaviour with the system package manager. It is recommended to use a virtual environment instead: https://pip.pypa.io/warnings/venv\n",
      "\u001b[0mLooking in indexes: https://pypi.org/simple, https://pypi.ngc.nvidia.com, https://aiinfra.pkgs.visualstudio.com/PublicPackages/_packaging/onnxruntime-cuda-12/pypi/simple\n",
      "Collecting onnxruntime-gpu==1.17.1\n",
      "  Downloading https://aiinfra.pkgs.visualstudio.com/2692857e-05ef-43b4-ba9c-ccf1c22c437c/_packaging/9387c3aa-d9ad-4513-968c-383f6f7f53b8/pypi/download/onnxruntime-gpu/1.17.1/onnxruntime_gpu-1.17.1-cp310-cp310-manylinux_2_28_x86_64.whl (192.9 MB)\n",
      "Collecting flatbuffers\n",
      "  Downloading https://aiinfra.pkgs.visualstudio.com/2692857e-05ef-43b4-ba9c-ccf1c22c437c/_packaging/9387c3aa-d9ad-4513-968c-383f6f7f53b8/pypi/download/flatbuffers/24.3.25/flatbuffers-24.3.25-py2.py3-none-any.whl (26 kB)\n",
      "Collecting coloredlogs\n",
      "  Downloading https://aiinfra.pkgs.visualstudio.com/2692857e-05ef-43b4-ba9c-ccf1c22c437c/_packaging/9387c3aa-d9ad-4513-968c-383f6f7f53b8/pypi/download/coloredlogs/15.0.1/coloredlogs-15.0.1-py2.py3-none-any.whl (46 kB)\n",
      "Collecting sympy\n",
      "  Downloading sympy-1.13.3-py3-none-any.whl (6.2 MB)\n",
      "Collecting packaging\n",
      "  Downloading packaging-24.1-py3-none-any.whl (53 kB)\n",
      "Collecting numpy>=1.21.6\n",
      "  Downloading numpy-2.1.1-cp310-cp310-manylinux_2_17_x86_64.manylinux2014_x86_64.whl (16.3 MB)\n",
      "Collecting protobuf\n",
      "  Downloading protobuf-5.28.2-cp38-abi3-manylinux2014_x86_64.whl (316 kB)\n",
      "Collecting humanfriendly>=9.1\n",
      "  Downloading https://aiinfra.pkgs.visualstudio.com/2692857e-05ef-43b4-ba9c-ccf1c22c437c/_packaging/9387c3aa-d9ad-4513-968c-383f6f7f53b8/pypi/download/humanfriendly/10/humanfriendly-10.0-py2.py3-none-any.whl (86 kB)\n",
      "Collecting mpmath<1.4,>=1.1.0\n",
      "  Downloading https://aiinfra.pkgs.visualstudio.com/2692857e-05ef-43b4-ba9c-ccf1c22c437c/_packaging/9387c3aa-d9ad-4513-968c-383f6f7f53b8/pypi/download/mpmath/1.3/mpmath-1.3.0-py3-none-any.whl (536 kB)\n",
      "Installing collected packages: mpmath, humanfriendly, sympy, protobuf, packaging, numpy, flatbuffers, coloredlogs, onnxruntime-gpu\n",
      "  Attempting uninstall: mpmath\n",
      "    Found existing installation: mpmath 1.3.0\n",
      "    Uninstalling mpmath-1.3.0:\n",
      "      Successfully uninstalled mpmath-1.3.0\n",
      "  Attempting uninstall: humanfriendly\n",
      "    Found existing installation: humanfriendly 10.0\n",
      "\u001b[91m    WARNING: Value for bin_prefix does not match. Please report this to <https://github.com/pypa/pip/issues/10151>\n",
      "    distutils: /usr/bin\n",
      "    sysconfig: /usr/local/bin\n",
      "    WARNING: Additional context:\n",
      "    user = False\n",
      "    home = None\n",
      "    root = None\n",
      "    prefix = None\n",
      "\u001b[0m    Uninstalling humanfriendly-10.0:\n",
      "      Successfully uninstalled humanfriendly-10.0\n",
      "  Attempting uninstall: sympy\n",
      "    Found existing installation: sympy 1.13.3\n",
      "    Uninstalling sympy-1.13.3:\n",
      "      Successfully uninstalled sympy-1.13.3\n",
      "  Attempting uninstall: protobuf\n",
      "    Found existing installation: protobuf 5.28.2\n",
      "    Uninstalling protobuf-5.28.2:\n",
      "      Successfully uninstalled protobuf-5.28.2\n",
      "  Attempting uninstall: packaging\n",
      "    Found existing installation: packaging 24.1\n",
      "    Uninstalling packaging-24.1:\n",
      "      Successfully uninstalled packaging-24.1\n",
      "  Attempting uninstall: numpy\n",
      "    Found existing installation: numpy 1.26.4\n",
      "    Uninstalling numpy-1.26.4:\n",
      "      Successfully uninstalled numpy-1.26.4\n",
      "  Attempting uninstall: flatbuffers\n",
      "    Found existing installation: flatbuffers 24.3.25\n",
      "    Uninstalling flatbuffers-24.3.25:\n",
      "      Successfully uninstalled flatbuffers-24.3.25\n",
      "  Attempting uninstall: coloredlogs\n",
      "    Found existing installation: coloredlogs 15.0.1\n",
      "    Uninstalling coloredlogs-15.0.1:\n",
      "      Successfully uninstalled coloredlogs-15.0.1\n",
      "Successfully installed coloredlogs-15.0.1 flatbuffers-24.3.25 humanfriendly-10.0 mpmath-1.3.0 numpy-2.1.1 onnxruntime-gpu-1.17.1 packaging-24.1 protobuf-5.28.2 sympy-1.13.3\n",
      "\u001b[91mERROR: pip's dependency resolver does not currently take into account all the packages that are installed. This behaviour is the source of the following dependency conflicts.\n",
      "thinc 8.1.10 requires pydantic!=1.8,!=1.8.1,<1.11.0,>=1.7.4, but you have pydantic 2.9.2 which is incompatible.\n",
      "spacy 3.5.3 requires pydantic!=1.8,!=1.8.1,<1.11.0,>=1.7.4, but you have pydantic 2.9.2 which is incompatible.\n",
      "sagemaker 2.232.1 requires attrs<24,>=23.1.0, but you have attrs 24.2.0 which is incompatible.\n",
      "sagemaker 2.232.1 requires numpy<2.0,>=1.9.0, but you have numpy 2.1.1 which is incompatible.\n",
      "sagemaker 2.232.1 requires protobuf<5.0,>=3.12, but you have protobuf 5.28.2 which is incompatible.\n",
      "numba 0.56.4+1.g5f1bc7084 requires numpy<1.24,>=1.18, but you have numpy 2.1.1 which is incompatible.\n",
      "gradio 3.50.2 requires numpy~=1.0, but you have numpy 2.1.1 which is incompatible.\n",
      "dask-cudf 23.4.0 requires pandas<1.6.0dev0,>=1.3, but you have pandas 2.2.3 which is incompatible.\n",
      "dask-cuda 23.4.0 requires pandas<1.6.0dev0,>=1.3, but you have pandas 2.2.3 which is incompatible.\n",
      "cupy-cuda12x 12.0.0b3 requires numpy<1.26,>=1.20, but you have numpy 2.1.1 which is incompatible.\n",
      "cudf 23.4.0 requires pandas<1.6.0dev0,>=1.3, but you have pandas 2.2.3 which is incompatible.\n",
      "cudf 23.4.0 requires protobuf==3.20.3, but you have protobuf 5.28.2 which is incompatible.\n",
      "\u001b[0m\u001b[91mWARNING: Running pip as the 'root' user can result in broken permissions and conflicting behaviour with the system package manager. It is recommended to use a virtual environment instead: https://pip.pypa.io/warnings/venv\n",
      "\u001b[0m\u001b[91mWARNING: You are using pip version 21.2.4; however, version 24.2 is available.\n",
      "You should consider upgrading via the '/usr/bin/python -m pip install --upgrade pip' command.\n",
      "\u001b[0mLooking in indexes: https://pypi.org/simple, https://pypi.ngc.nvidia.com\n",
      "Collecting numpy==1.26.4\n",
      "  Downloading numpy-1.26.4-cp310-cp310-manylinux_2_17_x86_64.manylinux2014_x86_64.whl (18.2 MB)\n",
      "Installing collected packages: numpy\n",
      "  Attempting uninstall: numpy\n",
      "    Found existing installation: numpy 2.1.1\n",
      "\u001b[91m    WARNING: Value for bin_prefix does not match. Please report this to <https://github.com/pypa/pip/issues/10151>\n",
      "    distutils: /usr/bin\n",
      "    sysconfig: /usr/local/bin\n",
      "    WARNING: Additional context:\n",
      "    user = False\n",
      "    home = None\n",
      "    root = None\n",
      "    prefix = None\n",
      "\u001b[0m    Uninstalling numpy-2.1.1:\n",
      "      Successfully uninstalled numpy-2.1.1\n",
      "Successfully installed numpy-1.26.4\n",
      "\u001b[91mERROR: pip's dependency resolver does not currently take into account all the packages that are installed. This behaviour is the source of the following dependency conflicts.\n",
      "thinc 8.1.10 requires pydantic!=1.8,!=1.8.1,<1.11.0,>=1.7.4, but you have pydantic 2.9.2 which is incompatible.\n",
      "spacy 3.5.3 requires pydantic!=1.8,!=1.8.1,<1.11.0,>=1.7.4, but you have pydantic 2.9.2 which is incompatible.\n",
      "sagemaker 2.232.1 requires attrs<24,>=23.1.0, but you have attrs 24.2.0 which is incompatible.\n",
      "sagemaker 2.232.1 requires protobuf<5.0,>=3.12, but you have protobuf 5.28.2 which is incompatible.\n",
      "numba 0.56.4+1.g5f1bc7084 requires numpy<1.24,>=1.18, but you have numpy 1.26.4 which is incompatible.\n",
      "dask-cudf 23.4.0 requires pandas<1.6.0dev0,>=1.3, but you have pandas 2.2.3 which is incompatible.\n",
      "dask-cuda 23.4.0 requires pandas<1.6.0dev0,>=1.3, but you have pandas 2.2.3 which is incompatible.\n",
      "cupy-cuda12x 12.0.0b3 requires numpy<1.26,>=1.20, but you have numpy 1.26.4 which is incompatible.\n",
      "cudf 23.4.0 requires pandas<1.6.0dev0,>=1.3, but you have pandas 2.2.3 which is incompatible.\n",
      "cudf 23.4.0 requires protobuf==3.20.3, but you have protobuf 5.28.2 which is incompatible.\n",
      "WARNING: Running pip as the 'root' user can result in broken permissions and conflicting behaviour with the system package manager. It is recommended to use a virtual environment instead: https://pip.pypa.io/warnings/venv\n",
      "\u001b[0m\u001b[91mWARNING: You are using pip version 21.2.4; however, version 24.2 is available.\n",
      "You should consider upgrading via the '/usr/bin/python -m pip install --upgrade pip' command.\n",
      "\u001b[0mRemoving intermediate container a7e41a0287fb\n",
      " ---> a5d70314bb96\n",
      "Step 22/29 : RUN pip install opencv-fixer==0.2.5\n",
      " ---> Running in edf7f0567f89\n",
      "Looking in indexes: https://pypi.org/simple, https://pypi.ngc.nvidia.com\n",
      "Collecting opencv-fixer==0.2.5\n",
      "  Downloading opencv_fixer-0.2.5-py3-none-any.whl (6.8 kB)\n",
      "Installing collected packages: opencv-fixer\n",
      "Successfully installed opencv-fixer-0.2.5\n",
      "\u001b[91mWARNING: Running pip as the 'root' user can result in broken permissions and conflicting behaviour with the system package manager. It is recommended to use a virtual environment instead: https://pip.pypa.io/warnings/venv\n",
      "\u001b[0m\u001b[91mWARNING: You are using pip version 21.2.4; however, version 24.2 is available.\n",
      "You should consider upgrading via the '/usr/bin/python -m pip install --upgrade pip' command.\n",
      "\u001b[0mRemoving intermediate container edf7f0567f89\n",
      " ---> 8542dae74c56\n",
      "Step 23/29 : RUN python -c \"from opencv_fixer import AutoFix; AutoFix()\"\n",
      " ---> Running in bd65d66dd8e8\n",
      "Uninstalling the following OpenCV-related packages: opencv, opencv-fixer, opencv-python\n",
      "Successfully uninstalled opencv\n",
      "Successfully uninstalled opencv-fixer\n",
      "Successfully uninstalled opencv-python\n",
      "Found opencv-python version is lower than 4.9, version=4.6.0\n",
      "Begin upgrade your opencv-python version to 4.9+.\n",
      "The folder /usr/local/lib/python3.10/dist-packages/cv2 has been removed successfully\n",
      "Install opencv-python-headless failed: WARNING: Running pip as the 'root' user can result in broken permissions and conflicting behaviour with the system package manager. It is recommended to use a virtual environment instead: https://pip.pypa.io/warnings/venv\n",
      "WARNING: You are using pip version 21.2.4; however, version 24.2 is available.\n",
      "You should consider upgrading via the '/usr/bin/python -m pip install --upgrade pip' command.\n",
      "\n",
      "Removing intermediate container bd65d66dd8e8\n",
      " ---> 76785620bddb\n",
      "Step 24/29 : WORKDIR /opt/program\n",
      " ---> Running in c2c3cfca501d\n",
      "Removing intermediate container c2c3cfca501d\n",
      " ---> e28acd42aee5\n",
      "Step 25/29 : RUN chmod 755 serve\n",
      " ---> Running in 6cd6c1a1f464\n",
      "Removing intermediate container 6cd6c1a1f464\n",
      " ---> 6f880e281a59\n",
      "Step 26/29 : RUN mkdir -p /tmp/facefusion/test/\n",
      " ---> Running in 825237fa75af\n",
      "Removing intermediate container 825237fa75af\n",
      " ---> 3cd5b270338b\n",
      "Step 27/29 : RUN chmod -R 777 /tmp/facefusion/test\n",
      " ---> Running in 65b4a501dae7\n",
      "Removing intermediate container 65b4a501dae7\n",
      " ---> 6f3a2c4f0063\n",
      "Step 28/29 : RUN mkdir -p /opt/program/output/\n",
      " ---> Running in 89004db4cef9\n",
      "Removing intermediate container 89004db4cef9\n",
      " ---> a0d333123210\n",
      "Step 29/29 : RUN chmod -R 777 /opt/program/output/\n",
      " ---> Running in b51951729eb9\n",
      "Removing intermediate container b51951729eb9\n",
      " ---> dfe825b1b20b\n",
      "Successfully built dfe825b1b20b\n",
      "Successfully tagged faces-swap-on-sagemaker:latest\n",
      "The push refers to repository [687912291502.dkr.ecr.us-west-2.amazonaws.com/faces-swap-on-sagemaker]\n",
      "\n",
      "\u001b[1B515cb481: Preparing \n",
      "\u001b[1B4289f0a0: Preparing \n",
      "\u001b[1B2a618d51: Preparing \n",
      "\u001b[1Bf5167e88: Preparing \n",
      "\u001b[1Bf27561d9: Preparing \n",
      "\u001b[1B79888bb6: Preparing \n",
      "\u001b[1Bb805cbbb: Preparing \n",
      "\u001b[1Bcae057bd: Preparing \n",
      "\u001b[1Bf698ab4a: Preparing \n",
      "\u001b[1Be3fa1cbf: Preparing \n",
      "\u001b[1Ba0fbf254: Preparing \n",
      "\u001b[1Ba0f3682a: Preparing \n",
      "\u001b[1B63f4c373: Preparing \n",
      "\u001b[1B7b66d9f8: Preparing \n",
      "\u001b[1Bd9cd1c0b: Preparing \n",
      "\u001b[1B4d4d828e: Preparing \n",
      "\u001b[1Bcd4453bb: Preparing \n",
      "\u001b[1B41cccfbf: Preparing \n",
      "\u001b[1B7920f528: Preparing \n",
      "\u001b[1B50b5cf37: Preparing \n",
      "\u001b[1B58d7f711: Preparing \n",
      "\u001b[1Ba4cf5317: Preparing \n",
      "\u001b[1B3cec2a4e: Preparing \n",
      "\u001b[1B96d18ca7: Preparing \n",
      "\u001b[1B4022c129: Preparing \n",
      "\u001b[1B8856dea8: Preparing \n",
      "\u001b[12Bd4d828e: Waiting g \n",
      "\u001b[1Be740b820: Preparing \n",
      "\u001b[1B63c7c42c: Preparing \n",
      "\u001b[20B0fbf254: Waiting g \n",
      "\u001b[20B0f3682a: Waiting g \n",
      "\u001b[1Bbf18a086: Preparing \n",
      "\u001b[1B6d81ae40: Preparing \n",
      "\u001b[1Bef5ce990: Preparing \n",
      "\u001b[1B7b7bd91e: Preparing \n",
      "\u001b[1Be03f3e32: Preparing \n",
      "\u001b[23B9cd1c0b: Waiting g \n",
      "\u001b[1B91568a4a: Preparing \n",
      "\u001b[1B545bd7b6: Preparing \n",
      "\u001b[22B920f528: Waiting g \n",
      "\u001b[20B4cf5317: Waiting g \n",
      "\u001b[35Bae057bd: Waiting g \n",
      "\u001b[1Bd9510092: Preparing \n",
      "\u001b[12Bd81ae40: Waiting g \n",
      "\u001b[23Bcec2a4e: Waiting g \n",
      "\u001b[12Bb7bd91e: Waiting g \n",
      "\u001b[28B0b5cf37: Waiting g \n",
      "\u001b[11B1568a4a: Waiting g \n",
      "\u001b[5B1d1b0f66: Waiting g \n",
      "\u001b[15B03f3e32: Waiting g \n",
      "\u001b[12B76a51db: Waiting g \n",
      "\u001b[21Bf18a086: Preparing \n",
      "\u001b[27Bfad5c65: Waiting g \n",
      "\u001b[25Ba53861f: Waiting g \n",
      "\u001b[25B2ee61b7: Waiting g \n",
      "\u001b[5B6ce809d3: Waiting g \n",
      "\u001b[3B1a58a2ec: Waiting g \n",
      "\u001b[3Ba6a9f106: Waiting g \n",
      "\u001b[1B084c3ce6: Preparing \n",
      "\u001b[1Be729e122: Preparing \n",
      "\u001b[4Bc17f4383: Waiting g \n",
      "\u001b[4B084c3ce6: Waiting g \n",
      "\u001b[4Be729e122: Waiting g \n",
      "\u001b[1B7d78c549: Preparing \n",
      "\u001b[5B93603198: Waiting g \n",
      "\u001b[19B64d15f3: Waiting g \n",
      "\u001b[5B82d5de7b: Waiting g \n",
      "\u001b[61Bae057bd: Pushed   1.315GB/1.293GB\u001b[68A\u001b[2K\u001b[65A\u001b[2K\u001b[64A\u001b[2K\u001b[68A\u001b[2K\u001b[62A\u001b[2K\u001b[63A\u001b[2K\u001b[59A\u001b[2K\u001b[63A\u001b[2K\u001b[59A\u001b[2K\u001b[63A\u001b[2K\u001b[59A\u001b[2K\u001b[60A\u001b[2K\u001b[63A\u001b[2K\u001b[62A\u001b[2K\u001b[63A\u001b[2K\u001b[60A\u001b[2K\u001b[61A\u001b[2K\u001b[60A\u001b[2K\u001b[61A\u001b[2K\u001b[60A\u001b[2K\u001b[61A\u001b[2K\u001b[60A\u001b[2K\u001b[59A\u001b[2K\u001b[61A\u001b[2K\u001b[63A\u001b[2K\u001b[61A\u001b[2K\u001b[59A\u001b[2K\u001b[61A\u001b[2K\u001b[59A\u001b[2K\u001b[61A\u001b[2K\u001b[63A\u001b[2K\u001b[61A\u001b[2K\u001b[63A\u001b[2K\u001b[61A\u001b[2K\u001b[63A\u001b[2K\u001b[57A\u001b[2K\u001b[63A\u001b[2K\u001b[60A\u001b[2K\u001b[59A\u001b[2K\u001b[61A\u001b[2K\u001b[63A\u001b[2K\u001b[61A\u001b[2K\u001b[55A\u001b[2K\u001b[56A\u001b[2K\u001b[55A\u001b[2K\u001b[54A\u001b[2K\u001b[55A\u001b[2K\u001b[63A\u001b[2K\u001b[56A\u001b[2K\u001b[63A\u001b[2K\u001b[55A\u001b[2K\u001b[63A\u001b[2K\u001b[55A\u001b[2K\u001b[61A\u001b[2K\u001b[55A\u001b[2K\u001b[56A\u001b[2K\u001b[55A\u001b[2K\u001b[56A\u001b[2K\u001b[53A\u001b[2K\u001b[61A\u001b[2K\u001b[56A\u001b[2K\u001b[61A\u001b[2K\u001b[63A\u001b[2K\u001b[61A\u001b[2K\u001b[61A\u001b[2K\u001b[55A\u001b[2K\u001b[56A\u001b[2K\u001b[53A\u001b[2K\u001b[63A\u001b[2K\u001b[53A\u001b[2K\u001b[52A\u001b[2K\u001b[53A\u001b[2K\u001b[52A\u001b[2K\u001b[53A\u001b[2K\u001b[52A\u001b[2K\u001b[56A\u001b[2K\u001b[52A\u001b[2K\u001b[63A\u001b[2K\u001b[61A\u001b[2K\u001b[63A\u001b[2K\u001b[61A\u001b[2K\u001b[63A\u001b[2K\u001b[56A\u001b[2K\u001b[51A\u001b[2K\u001b[63A\u001b[2K\u001b[51A\u001b[2K\u001b[61A\u001b[2K\u001b[51A\u001b[2K\u001b[52A\u001b[2K\u001b[51A\u001b[2K\u001b[52A\u001b[2K\u001b[51A\u001b[2K\u001b[56A\u001b[2K\u001b[61A\u001b[2K\u001b[63A\u001b[2K\u001b[52A\u001b[2K\u001b[51A\u001b[2K\u001b[56A\u001b[2K\u001b[63A\u001b[2K\u001b[56A\u001b[2K\u001b[63A\u001b[2K\u001b[56A\u001b[2K\u001b[52A\u001b[2K\u001b[56A\u001b[2K\u001b[61A\u001b[2K\u001b[56A\u001b[2K\u001b[61A\u001b[2K\u001b[63A\u001b[2K\u001b[50A\u001b[2K\u001b[52A\u001b[2K\u001b[61A\u001b[2K\u001b[63A\u001b[2K\u001b[61A\u001b[2K\u001b[46A\u001b[2K\u001b[61A\u001b[2K\u001b[56A\u001b[2K\u001b[52A\u001b[2K\u001b[56A\u001b[2K\u001b[41A\u001b[2K\u001b[61A\u001b[2K\u001b[39A\u001b[2K\u001b[52A\u001b[2K\u001b[36A\u001b[2K\u001b[61A\u001b[2K\u001b[34A\u001b[2K\u001b[61A\u001b[2K\u001b[56A\u001b[2K\u001b[61A\u001b[2K\u001b[56A\u001b[2K\u001b[29A\u001b[2K\u001b[28A\u001b[2K\u001b[56A\u001b[2K\u001b[26A\u001b[2K\u001b[25A\u001b[2K\u001b[23A\u001b[2K\u001b[20A\u001b[2K\u001b[17A\u001b[2K\u001b[14A\u001b[2K\u001b[11A\u001b[2K\u001b[8A\u001b[2K\u001b[4A\u001b[2K\u001b[1A\u001b[2K\u001b[56A\u001b[2K\u001b[56A\u001b[2K\u001b[61A\u001b[2K\u001b[56A\u001b[2K\u001b[61A\u001b[2K\u001b[56A\u001b[2K\u001b[56A\u001b[2K\u001b[56A\u001b[2K\u001b[61A\u001b[2K\u001b[56A\u001b[2K\u001b[56A\u001b[2K\u001b[61A\u001b[2K\u001b[56A\u001b[2K\u001b[56A\u001b[2K\u001b[61A\u001b[2K\u001b[56A\u001b[2K\u001b[56A\u001b[2K\u001b[56A\u001b[2K\u001b[61A\u001b[2K\u001b[56A\u001b[2K\u001b[61A\u001b[2K\u001b[56A\u001b[2K\u001b[61A\u001b[2K\u001b[56A\u001b[2K\u001b[61A\u001b[2K\u001b[56A\u001b[2K\u001b[61A\u001b[2K\u001b[56A\u001b[2K\u001b[56A\u001b[2K\u001b[61A\u001b[2K\u001b[56A\u001b[2K\u001b[61A\u001b[2K\u001b[56A\u001b[2K\u001b[61A\u001b[2K\u001b[56A\u001b[2K\u001b[61A\u001b[2K\u001b[61A\u001b[2K\u001b[61A\u001b[2K\u001b[61A\u001b[2K\u001b[56A\u001b[2K\u001b[61A\u001b[2K\u001b[61A\u001b[2K\u001b[61A\u001b[2K\u001b[56A\u001b[2K\u001b[61A\u001b[2K\u001b[56A\u001b[2K\u001b[61A\u001b[2K\u001b[56A\u001b[2K\u001b[61A\u001b[2K\u001b[56A\u001b[2K\u001b[61A\u001b[2K\u001b[61A\u001b[2K\u001b[56A\u001b[2K\u001b[61A\u001b[2K\u001b[56A\u001b[2K\u001b[61A\u001b[2K\u001b[61A\u001b[2K\u001b[61A\u001b[2K\u001b[61A\u001b[2K\u001b[56A\u001b[2K\u001b[61A\u001b[2K\u001b[56A\u001b[2K\u001b[61A\u001b[2K\u001b[56A\u001b[2K\u001b[61A\u001b[2K\u001b[56A\u001b[2K\u001b[61A\u001b[2K\u001b[56A\u001b[2K\u001b[56A\u001b[2K\u001b[56A\u001b[2K\u001b[56A\u001b[2K\u001b[61A\u001b[2K\u001b[56A\u001b[2K\u001b[61A\u001b[2K\u001b[56A\u001b[2K\u001b[61A\u001b[2K\u001b[56A\u001b[2K\u001b[61A\u001b[2K\u001b[56A\u001b[2K\u001b[56A\u001b[2K\u001b[56A\u001b[2K\u001b[61A\u001b[2K\u001b[56A\u001b[2K\u001b[56A\u001b[2K\u001b[61A\u001b[2K\u001b[56A\u001b[2K\u001b[61A\u001b[2K\u001b[61A\u001b[2K\u001b[61A\u001b[2K\u001b[61A\u001b[2K\u001b[56A\u001b[2K\u001b[61A\u001b[2K\u001b[61A\u001b[2K\u001b[61A\u001b[2K\u001b[61A\u001b[2K\u001b[56A\u001b[2K\u001b[61A\u001b[2K\u001b[56A\u001b[2K\u001b[61A\u001b[2K\u001b[56A\u001b[2K\u001b[61A\u001b[2K\u001b[56A\u001b[2K\u001b[61A\u001b[2K\u001b[56A\u001b[2K\u001b[61A\u001b[2K\u001b[56A\u001b[2K\u001b[61A\u001b[2K\u001b[56A\u001b[2K\u001b[56A\u001b[2K\u001b[61A\u001b[2K\u001b[56A\u001b[2K\u001b[61A\u001b[2K\u001b[56A\u001b[2K\u001b[56A\u001b[2K\u001b[56A\u001b[2K\u001b[61A\u001b[2K\u001b[56A\u001b[2K\u001b[56A\u001b[2K\u001b[61A\u001b[2K\u001b[56A\u001b[2K\u001b[61A\u001b[2K\u001b[56A\u001b[2K\u001b[56A\u001b[2K\u001b[56A\u001b[2K\u001b[61A\u001b[2K\u001b[56A\u001b[2K\u001b[61A\u001b[2K\u001b[56A\u001b[2K\u001b[61A\u001b[2K\u001b[56A\u001b[2K\u001b[61A\u001b[2K\u001b[56A\u001b[2K\u001b[56A\u001b[2K\u001b[61A\u001b[2K\u001b[56A\u001b[2K\u001b[61A\u001b[2K\u001b[56A\u001b[2K\u001b[61A\u001b[2K\u001b[56A\u001b[2K\u001b[56A\u001b[2K\u001b[56A\u001b[2K\u001b[56A\u001b[2K\u001b[56A\u001b[2K\u001b[56A\u001b[2K\u001b[61A\u001b[2K\u001b[61A\u001b[2K\u001b[56A\u001b[2K\u001b[61A\u001b[2K\u001b[56A\u001b[2K\u001b[61A\u001b[2K\u001b[56A\u001b[2K\u001b[61A\u001b[2K\u001b[61A\u001b[2K\u001b[56A\u001b[2K\u001b[61A\u001b[2K\u001b[56A\u001b[2K\u001b[61A\u001b[2K\u001b[56A\u001b[2K\u001b[61A\u001b[2K\u001b[56A\u001b[2K\u001b[61A\u001b[2K\u001b[56A\u001b[2K\u001b[56A\u001b[2K\u001b[61A\u001b[2K\u001b[56A\u001b[2K\u001b[61A\u001b[2K\u001b[56A\u001b[2K\u001b[61A\u001b[2K\u001b[56A\u001b[2K\u001b[61A\u001b[2K\u001b[56A\u001b[2K\u001b[61A\u001b[2K\u001b[56A\u001b[2K\u001b[61A\u001b[2K\u001b[61A\u001b[2K\u001b[61A\u001b[2K\u001b[56A\u001b[2K\u001b[61A\u001b[2K\u001b[61A\u001b[2K\u001b[61A\u001b[2K\u001b[61A\u001b[2K\u001b[56A\u001b[2K\u001b[56A\u001b[2K\u001b[56A\u001b[2K\u001b[61A\u001b[2K\u001b[56A\u001b[2K\u001b[61A\u001b[2K\u001b[56A\u001b[2K\u001b[61A\u001b[2K\u001b[56A\u001b[2K\u001b[61A\u001b[2K\u001b[56A\u001b[2K\u001b[61A\u001b[2K\u001b[56A\u001b[2K\u001b[61A\u001b[2K\u001b[56A\u001b[2K\u001b[61A\u001b[2K\u001b[61A\u001b[2K\u001b[61A\u001b[2K\u001b[61A\u001b[2K\u001b[61A\u001b[2K\u001b[61A\u001b[2K\u001b[61A\u001b[2K\u001b[61A\u001b[2K\u001b[61A\u001b[2K\u001b[56A\u001b[2K\u001b[61A\u001b[2K\u001b[61A\u001b[2K\u001b[61A\u001b[2K\u001b[61A\u001b[2K\u001b[61A\u001b[2K\u001b[61A\u001b[2K\u001b[61A\u001b[2K\u001b[61A\u001b[2K\u001b[61A\u001b[2K\u001b[61A\u001b[2K\u001b[61A\u001b[2K\u001b[61A\u001b[2K\u001b[61A\u001b[2K\u001b[61A\u001b[2K\u001b[61A\u001b[2K\u001b[61A\u001b[2K\u001b[61A\u001b[2K\u001b[61A\u001b[2K\u001b[61A\u001b[2K\u001b[61A\u001b[2K\u001b[61A\u001b[2K\u001b[61A\u001b[2K\u001b[61A\u001b[2K\u001b[61A\u001b[2K\u001b[61A\u001b[2K\u001b[61A\u001b[2K\u001b[61A\u001b[2K\u001b[61A\u001b[2K\u001b[61A\u001b[2K\u001b[61A\u001b[2K\u001b[61A\u001b[2K\u001b[61A\u001b[2K\u001b[61A\u001b[2K\u001b[61A\u001b[2K\u001b[61A\u001b[2K\u001b[61A\u001b[2K\u001b[61A\u001b[2K\u001b[61A\u001b[2K\u001b[61A\u001b[2K\u001b[61A\u001b[2K\u001b[61A\u001b[2K\u001b[61A\u001b[2K\u001b[61A\u001b[2K\u001b[61A\u001b[2K\u001b[61A\u001b[2K\u001b[61A\u001b[2K\u001b[61A\u001b[2K\u001b[61A\u001b[2K\u001b[61A\u001b[2K\u001b[61A\u001b[2K\u001b[61A\u001b[2K\u001b[61A\u001b[2K\u001b[61A\u001b[2K\u001b[61A\u001b[2K\u001b[61A\u001b[2K\u001b[61A\u001b[2K\u001b[61A\u001b[2K\u001b[61A\u001b[2K\u001b[61A\u001b[2K\u001b[61A\u001b[2K\u001b[61A\u001b[2K\u001b[61A\u001b[2K\u001b[61A\u001b[2K\u001b[61A\u001b[2K\u001b[61A\u001b[2K\u001b[61A\u001b[2K\u001b[61A\u001b[2K\u001b[61A\u001b[2K\u001b[61A\u001b[2K\u001b[61A\u001b[2K\u001b[61A\u001b[2K\u001b[61A\u001b[2K\u001b[61A\u001b[2K\u001b[61A\u001b[2K\u001b[61A\u001b[2K\u001b[61A\u001b[2K\u001b[61A\u001b[2K\u001b[61A\u001b[2K\u001b[61A\u001b[2K\u001b[61A\u001b[2K\u001b[61A\u001b[2K\u001b[61A\u001b[2K\u001b[61A\u001b[2K\u001b[61A\u001b[2K\u001b[61A\u001b[2K\u001b[61A\u001b[2K\u001b[61A\u001b[2K\u001b[61A\u001b[2K\u001b[61A\u001b[2K\u001b[61A\u001b[2K\u001b[61A\u001b[2K\u001b[61A\u001b[2K\u001b[61A\u001b[2K\u001b[61A\u001b[2K\u001b[61A\u001b[2K\u001b[61A\u001b[2K\u001b[61A\u001b[2K\u001b[61A\u001b[2K\u001b[61A\u001b[2K\u001b[61A\u001b[2K\u001b[61A\u001b[2K\u001b[61A\u001b[2K\u001b[61A\u001b[2K\u001b[61A\u001b[2K\u001b[61A\u001b[2K\u001b[61A\u001b[2K\u001b[61A\u001b[2K\u001b[61A\u001b[2K\u001b[61A\u001b[2K\u001b[61A\u001b[2K\u001b[61A\u001b[2K\u001b[61A\u001b[2K\u001b[61A\u001b[2K\u001b[61A\u001b[2K\u001b[61A\u001b[2K\u001b[61A\u001b[2K\u001b[61A\u001b[2K\u001b[61A\u001b[2K\u001b[61A\u001b[2K\u001b[61A\u001b[2K\u001b[61A\u001b[2K\u001b[61A\u001b[2K\u001b[61A\u001b[2K\u001b[61A\u001b[2K\u001b[61A\u001b[2K\u001b[61A\u001b[2K\u001b[61A\u001b[2K\u001b[61A\u001b[2K\u001b[61A\u001b[2K\u001b[61A\u001b[2K\u001b[61A\u001b[2K\u001b[61A\u001b[2K\u001b[61A\u001b[2K\u001b[61A\u001b[2K\u001b[61A\u001b[2K\u001b[61A\u001b[2K\u001b[61A\u001b[2K\u001b[61A\u001b[2K\u001b[61A\u001b[2K\u001b[61A\u001b[2K\u001b[61A\u001b[2K\u001b[61A\u001b[2K\u001b[61A\u001b[2K\u001b[61A\u001b[2K\u001b[61A\u001b[2K\u001b[61A\u001b[2K\u001b[61A\u001b[2K\u001b[61A\u001b[2K\u001b[61A\u001b[2K\u001b[61A\u001b[2K\u001b[61A\u001b[2K\u001b[61A\u001b[2K\u001b[61A\u001b[2K\u001b[61A\u001b[2K\u001b[61A\u001b[2K\u001b[61A\u001b[2K\u001b[61A\u001b[2K\u001b[61A\u001b[2K\u001b[61A\u001b[2K\u001b[61A\u001b[2K\u001b[61A\u001b[2K\u001b[61A\u001b[2K\u001b[61A\u001b[2K\u001b[61A\u001b[2K\u001b[61A\u001b[2K\u001b[61A\u001b[2K\u001b[61A\u001b[2K\u001b[61A\u001b[2K\u001b[61A\u001b[2K\u001b[61A\u001b[2K\u001b[61A\u001b[2K\u001b[61A\u001b[2K\u001b[61A\u001b[2K\u001b[61A\u001b[2K\u001b[61A\u001b[2K\u001b[61A\u001b[2K\u001b[61A\u001b[2K\u001b[61A\u001b[2K\u001b[61A\u001b[2K\u001b[61A\u001b[2K\u001b[61A\u001b[2K\u001b[61A\u001b[2K\u001b[61A\u001b[2K\u001b[61A\u001b[2K\u001b[61A\u001b[2K\u001b[61A\u001b[2K\u001b[61A\u001b[2K\u001b[61A\u001b[2K\u001b[61A\u001b[2K\u001b[61A\u001b[2K\u001b[61A\u001b[2K\u001b[61A\u001b[2K\u001b[61A\u001b[2K\u001b[61A\u001b[2K\u001b[61A\u001b[2K\u001b[61A\u001b[2K\u001b[61A\u001b[2K\u001b[61A\u001b[2K\u001b[61A\u001b[2K\u001b[61A\u001b[2K\u001b[61A\u001b[2K\u001b[61A\u001b[2K\u001b[61A\u001b[2K\u001b[61A\u001b[2K\u001b[61A\u001b[2K\u001b[61A\u001b[2K\u001b[61A\u001b[2K\u001b[61A\u001b[2K\u001b[61A\u001b[2K\u001b[61A\u001b[2K\u001b[61A\u001b[2K\u001b[61A\u001b[2K\u001b[61A\u001b[2K\u001b[61A\u001b[2K\u001b[61A\u001b[2K\u001b[61A\u001b[2K\u001b[61A\u001b[2K\u001b[61A\u001b[2K\u001b[61A\u001b[2K\u001b[61A\u001b[2K\u001b[61A\u001b[2K\u001b[61A\u001b[2K\u001b[61A\u001b[2K\u001b[61A\u001b[2K\u001b[61A\u001b[2K\u001b[61A\u001b[2K\u001b[61A\u001b[2K\u001b[61A\u001b[2K\u001b[61A\u001b[2K\u001b[61A\u001b[2K\u001b[61A\u001b[2K\u001b[61A\u001b[2K\u001b[61A\u001b[2K\u001b[61A\u001b[2K\u001b[61A\u001b[2K\u001b[61A\u001b[2K\u001b[61A\u001b[2K\u001b[61A\u001b[2K\u001b[61A\u001b[2K\u001b[61A\u001b[2K\u001b[61A\u001b[2K\u001b[61A\u001b[2K\u001b[61A\u001b[2K\u001b[61A\u001b[2K\u001b[61A\u001b[2K\u001b[61A\u001b[2K\u001b[61A\u001b[2K\u001b[61A\u001b[2K\u001b[61A\u001b[2K\u001b[61A\u001b[2K\u001b[61A\u001b[2K\u001b[61A\u001b[2K\u001b[61A\u001b[2K\u001b[61A\u001b[2K\u001b[61A\u001b[2K\u001b[61A\u001b[2K\u001b[61A\u001b[2Klatest: digest: sha256:c2336a2cec7bb1fcf16ed838c15d5fc245c430bd0dd6674967bafad65476279e size: 14844\n"
     ]
    }
   ],
   "source": [
    "# 在 Facefusion-Sagemaker-Studio-Lab 目录执行如下命令，如上docker file是已CPU举例的，可以修改使用GPU 可以参考gpu_Dockerfile\n",
    "!./build_and_push.sh faces-swap-on-sagemaker"
   ]
  },
  {
   "cell_type": "code",
   "execution_count": 2,
   "id": "11514ade-df1c-4260-8797-83bfc5b279e7",
   "metadata": {
    "tags": []
   },
   "outputs": [
    {
     "name": "stdout",
     "output_type": "stream",
     "text": [
      "sagemaker.config INFO - Not applying SDK defaults from location: /etc/xdg/sagemaker/config.yaml\n",
      "sagemaker.config INFO - Not applying SDK defaults from location: /home/ec2-user/.config/sagemaker/config.yaml\n",
      "687912291502.dkr.ecr.us-west-2.amazonaws.com/faces-swap-on-sagemaker:latest\n"
     ]
    }
   ],
   "source": [
    "import boto3\n",
    "import sagemaker\n",
    "from sagemaker import Model, image_uris, serializers, deserializers\n",
    "\n",
    "role = sagemaker.get_execution_role()  # execution role for the endpoint\n",
    "sess = sagemaker.session.Session()  # sagemaker session for interacting with different AWS APIs\n",
    "region = sess._region_name  # region name of the current SageMaker Studio environment\n",
    "account_id = sess.account_id()  # account_id of the current SageMaker Studio environment\n",
    "bucket = sess.default_bucket()\n",
    "image=\"faces-swap-on-sagemaker\"\n",
    "s3_client = boto3.client(\"s3\")\n",
    "sm_client = boto3.client(\"sagemaker\")\n",
    "smr_client = boto3.client(\"sagemaker-runtime\")\n",
    "\n",
    "full_image_uri=f\"{account_id}.dkr.ecr.{region}.amazonaws.com/{image}:latest\"\n",
    "print(full_image_uri)"
   ]
  },
  {
   "cell_type": "markdown",
   "id": "a54bf5b1",
   "metadata": {
    "tags": []
   },
   "source": [
    "## remote debug test"
   ]
  },
  {
   "cell_type": "code",
   "execution_count": 3,
   "id": "131fe9fa-f2a3-49e0-8a83-156b00980d6d",
   "metadata": {
    "tags": []
   },
   "outputs": [
    {
     "name": "stdout",
     "output_type": "stream",
     "text": [
      "dummy\n",
      "upload: ./model.tar.gz to s3://sagemaker-us-west-2-687912291502/facefusion/assets/model.tar.gz\n"
     ]
    }
   ],
   "source": [
    "!touch dummy\n",
    "!tar czvf model.tar.gz dummy\n",
    "assets_dir = 's3://{0}/{1}/assets/'.format(bucket, 'facefusion')\n",
    "model_data = 's3://{0}/{1}/assets/model.tar.gz'.format(bucket, 'facefusion')\n",
    "!aws s3 cp model.tar.gz $assets_dir\n",
    "!rm -f dummy model.tar.gz"
   ]
  },
  {
   "cell_type": "code",
   "execution_count": 7,
   "id": "a9a45469-989b-4709-bc1f-8c6a59ac6fc0",
   "metadata": {
    "tags": []
   },
   "outputs": [],
   "source": [
    "from sagemaker_ssh_helper.wrapper import SSHModelWrapper\n",
    "model = Model(image_uri=full_image_uri, model_data=model_data, role=role,dependencies=[SSHModelWrapper.dependency_dir()] )"
   ]
  },
  {
   "cell_type": "code",
   "execution_count": 8,
   "id": "73e60433-09e8-449e-9fc5-6fbd639d98f2",
   "metadata": {
    "tags": []
   },
   "outputs": [
    {
     "name": "stdout",
     "output_type": "stream",
     "text": [
      "--------------------------------------------------------*"
     ]
    },
    {
     "ename": "UnexpectedStatusException",
     "evalue": "Error hosting endpoint facefusion-byoc-2024-10-01-03-30-46-636: Failed. Reason: The primary container for production variant AllTraffic did not pass the ping health check. Please check CloudWatch logs for this endpoint.. Try changing the instance type or reference the troubleshooting page https://docs.aws.amazon.com/sagemaker/latest/dg/async-inference-troubleshooting.html",
     "output_type": "error",
     "traceback": [
      "\u001b[0;31m---------------------------------------------------------------------------\u001b[0m",
      "\u001b[0;31mUnexpectedStatusException\u001b[0m                 Traceback (most recent call last)",
      "Cell \u001b[0;32mIn[8], line 8\u001b[0m\n\u001b[1;32m      4\u001b[0m \u001b[38;5;66;03m#endpoint_name = \"facefusion-byoc-2024-06-20-05-42-13-578\"\u001b[39;00m\n\u001b[1;32m      6\u001b[0m ssh_wrapper \u001b[38;5;241m=\u001b[39m SSHModelWrapper\u001b[38;5;241m.\u001b[39mcreate(model, connection_wait_time_seconds\u001b[38;5;241m=\u001b[39m\u001b[38;5;241m0\u001b[39m)  \u001b[38;5;66;03m# <--NEW--\u001b[39;00m\n\u001b[0;32m----> 8\u001b[0m predictor \u001b[38;5;241m=\u001b[39m \u001b[43mmodel\u001b[49m\u001b[38;5;241;43m.\u001b[39;49m\u001b[43mdeploy\u001b[49m\u001b[43m(\u001b[49m\n\u001b[1;32m      9\u001b[0m \u001b[43m    \u001b[49m\u001b[43minitial_instance_count\u001b[49m\u001b[38;5;241;43m=\u001b[39;49m\u001b[38;5;241;43m1\u001b[39;49m\u001b[43m,\u001b[49m\n\u001b[1;32m     10\u001b[0m \u001b[43m    \u001b[49m\u001b[43minstance_type\u001b[49m\u001b[38;5;241;43m=\u001b[39;49m\u001b[43minstance_type\u001b[49m\u001b[43m,\u001b[49m\n\u001b[1;32m     11\u001b[0m \u001b[43m    \u001b[49m\u001b[43mendpoint_name\u001b[49m\u001b[38;5;241;43m=\u001b[39;49m\u001b[43mendpoint_name\u001b[49m\u001b[43m,\u001b[49m\n\u001b[1;32m     12\u001b[0m \u001b[43m    \u001b[49m\u001b[43mwait\u001b[49m\u001b[38;5;241;43m=\u001b[39;49m\u001b[38;5;28;43;01mTrue\u001b[39;49;00m\n\u001b[1;32m     13\u001b[0m \u001b[43m)\u001b[49m\n",
      "File \u001b[0;32m~/anaconda3/envs/python3/lib/python3.10/site-packages/sagemaker/model.py:1662\u001b[0m, in \u001b[0;36mModel.deploy\u001b[0;34m(self, initial_instance_count, instance_type, serializer, deserializer, accelerator_type, endpoint_name, tags, kms_key, wait, data_capture_config, async_inference_config, serverless_inference_config, volume_size, model_data_download_timeout, container_startup_health_check_timeout, inference_recommendation_id, explainer_config, accept_eula, endpoint_logging, resources, endpoint_type, managed_instance_scaling, **kwargs)\u001b[0m\n\u001b[1;32m   1659\u001b[0m \u001b[38;5;28;01mif\u001b[39;00m is_explainer_enabled:\n\u001b[1;32m   1660\u001b[0m     explainer_config_dict \u001b[38;5;241m=\u001b[39m explainer_config\u001b[38;5;241m.\u001b[39m_to_request_dict()\n\u001b[0;32m-> 1662\u001b[0m \u001b[38;5;28;43mself\u001b[39;49m\u001b[38;5;241;43m.\u001b[39;49m\u001b[43msagemaker_session\u001b[49m\u001b[38;5;241;43m.\u001b[39;49m\u001b[43mendpoint_from_production_variants\u001b[49m\u001b[43m(\u001b[49m\n\u001b[1;32m   1663\u001b[0m \u001b[43m    \u001b[49m\u001b[43mname\u001b[49m\u001b[38;5;241;43m=\u001b[39;49m\u001b[38;5;28;43mself\u001b[39;49m\u001b[38;5;241;43m.\u001b[39;49m\u001b[43mendpoint_name\u001b[49m\u001b[43m,\u001b[49m\n\u001b[1;32m   1664\u001b[0m \u001b[43m    \u001b[49m\u001b[43mproduction_variants\u001b[49m\u001b[38;5;241;43m=\u001b[39;49m\u001b[43m[\u001b[49m\u001b[43mproduction_variant\u001b[49m\u001b[43m]\u001b[49m\u001b[43m,\u001b[49m\n\u001b[1;32m   1665\u001b[0m \u001b[43m    \u001b[49m\u001b[43mtags\u001b[49m\u001b[38;5;241;43m=\u001b[39;49m\u001b[43mtags\u001b[49m\u001b[43m,\u001b[49m\n\u001b[1;32m   1666\u001b[0m \u001b[43m    \u001b[49m\u001b[43mkms_key\u001b[49m\u001b[38;5;241;43m=\u001b[39;49m\u001b[43mkms_key\u001b[49m\u001b[43m,\u001b[49m\n\u001b[1;32m   1667\u001b[0m \u001b[43m    \u001b[49m\u001b[43mwait\u001b[49m\u001b[38;5;241;43m=\u001b[39;49m\u001b[43mwait\u001b[49m\u001b[43m,\u001b[49m\n\u001b[1;32m   1668\u001b[0m \u001b[43m    \u001b[49m\u001b[43mdata_capture_config_dict\u001b[49m\u001b[38;5;241;43m=\u001b[39;49m\u001b[43mdata_capture_config_dict\u001b[49m\u001b[43m,\u001b[49m\n\u001b[1;32m   1669\u001b[0m \u001b[43m    \u001b[49m\u001b[43mexplainer_config_dict\u001b[49m\u001b[38;5;241;43m=\u001b[39;49m\u001b[43mexplainer_config_dict\u001b[49m\u001b[43m,\u001b[49m\n\u001b[1;32m   1670\u001b[0m \u001b[43m    \u001b[49m\u001b[43masync_inference_config_dict\u001b[49m\u001b[38;5;241;43m=\u001b[39;49m\u001b[43masync_inference_config_dict\u001b[49m\u001b[43m,\u001b[49m\n\u001b[1;32m   1671\u001b[0m \u001b[43m    \u001b[49m\u001b[43mlive_logging\u001b[49m\u001b[38;5;241;43m=\u001b[39;49m\u001b[43mendpoint_logging\u001b[49m\u001b[43m,\u001b[49m\n\u001b[1;32m   1672\u001b[0m \u001b[43m\u001b[49m\u001b[43m)\u001b[49m\n\u001b[1;32m   1674\u001b[0m \u001b[38;5;28;01mif\u001b[39;00m \u001b[38;5;28mself\u001b[39m\u001b[38;5;241m.\u001b[39mpredictor_cls:\n\u001b[1;32m   1675\u001b[0m     predictor \u001b[38;5;241m=\u001b[39m \u001b[38;5;28mself\u001b[39m\u001b[38;5;241m.\u001b[39mpredictor_cls(\u001b[38;5;28mself\u001b[39m\u001b[38;5;241m.\u001b[39mendpoint_name, \u001b[38;5;28mself\u001b[39m\u001b[38;5;241m.\u001b[39msagemaker_session)\n",
      "File \u001b[0;32m~/anaconda3/envs/python3/lib/python3.10/site-packages/sagemaker/session.py:5672\u001b[0m, in \u001b[0;36mSession.endpoint_from_production_variants\u001b[0;34m(self, name, production_variants, tags, kms_key, wait, data_capture_config_dict, async_inference_config_dict, explainer_config_dict, live_logging, vpc_config, enable_network_isolation, role)\u001b[0m\n\u001b[1;32m   5669\u001b[0m logger\u001b[38;5;241m.\u001b[39minfo(\u001b[38;5;124m\"\u001b[39m\u001b[38;5;124mCreating endpoint-config with name \u001b[39m\u001b[38;5;132;01m%s\u001b[39;00m\u001b[38;5;124m\"\u001b[39m, name)\n\u001b[1;32m   5670\u001b[0m \u001b[38;5;28mself\u001b[39m\u001b[38;5;241m.\u001b[39msagemaker_client\u001b[38;5;241m.\u001b[39mcreate_endpoint_config(\u001b[38;5;241m*\u001b[39m\u001b[38;5;241m*\u001b[39mconfig_options)\n\u001b[0;32m-> 5672\u001b[0m \u001b[38;5;28;01mreturn\u001b[39;00m \u001b[38;5;28;43mself\u001b[39;49m\u001b[38;5;241;43m.\u001b[39;49m\u001b[43mcreate_endpoint\u001b[49m\u001b[43m(\u001b[49m\n\u001b[1;32m   5673\u001b[0m \u001b[43m    \u001b[49m\u001b[43mendpoint_name\u001b[49m\u001b[38;5;241;43m=\u001b[39;49m\u001b[43mname\u001b[49m\u001b[43m,\u001b[49m\n\u001b[1;32m   5674\u001b[0m \u001b[43m    \u001b[49m\u001b[43mconfig_name\u001b[49m\u001b[38;5;241;43m=\u001b[39;49m\u001b[43mname\u001b[49m\u001b[43m,\u001b[49m\n\u001b[1;32m   5675\u001b[0m \u001b[43m    \u001b[49m\u001b[43mtags\u001b[49m\u001b[38;5;241;43m=\u001b[39;49m\u001b[43mendpoint_tags\u001b[49m\u001b[43m,\u001b[49m\n\u001b[1;32m   5676\u001b[0m \u001b[43m    \u001b[49m\u001b[43mwait\u001b[49m\u001b[38;5;241;43m=\u001b[39;49m\u001b[43mwait\u001b[49m\u001b[43m,\u001b[49m\n\u001b[1;32m   5677\u001b[0m \u001b[43m    \u001b[49m\u001b[43mlive_logging\u001b[49m\u001b[38;5;241;43m=\u001b[39;49m\u001b[43mlive_logging\u001b[49m\u001b[43m,\u001b[49m\n\u001b[1;32m   5678\u001b[0m \u001b[43m\u001b[49m\u001b[43m)\u001b[49m\n",
      "File \u001b[0;32m~/anaconda3/envs/python3/lib/python3.10/site-packages/sagemaker/session.py:4530\u001b[0m, in \u001b[0;36mSession.create_endpoint\u001b[0;34m(self, endpoint_name, config_name, tags, wait, live_logging)\u001b[0m\n\u001b[1;32m   4527\u001b[0m     \u001b[38;5;28mself\u001b[39m\u001b[38;5;241m.\u001b[39mendpoint_arn \u001b[38;5;241m=\u001b[39m res[\u001b[38;5;124m\"\u001b[39m\u001b[38;5;124mEndpointArn\u001b[39m\u001b[38;5;124m\"\u001b[39m]\n\u001b[1;32m   4529\u001b[0m \u001b[38;5;28;01mif\u001b[39;00m wait:\n\u001b[0;32m-> 4530\u001b[0m     \u001b[38;5;28;43mself\u001b[39;49m\u001b[38;5;241;43m.\u001b[39;49m\u001b[43mwait_for_endpoint\u001b[49m\u001b[43m(\u001b[49m\u001b[43mendpoint_name\u001b[49m\u001b[43m,\u001b[49m\u001b[43m \u001b[49m\u001b[43mlive_logging\u001b[49m\u001b[38;5;241;43m=\u001b[39;49m\u001b[43mlive_logging\u001b[49m\u001b[43m)\u001b[49m\n\u001b[1;32m   4531\u001b[0m \u001b[38;5;28;01mreturn\u001b[39;00m endpoint_name\n",
      "File \u001b[0;32m~/anaconda3/envs/python3/lib/python3.10/site-packages/sagemaker/session.py:5315\u001b[0m, in \u001b[0;36mSession.wait_for_endpoint\u001b[0;34m(self, endpoint, poll, live_logging)\u001b[0m\n\u001b[1;32m   5309\u001b[0m     \u001b[38;5;28;01mif\u001b[39;00m \u001b[38;5;124m\"\u001b[39m\u001b[38;5;124mCapacityError\u001b[39m\u001b[38;5;124m\"\u001b[39m \u001b[38;5;129;01min\u001b[39;00m \u001b[38;5;28mstr\u001b[39m(reason):\n\u001b[1;32m   5310\u001b[0m         \u001b[38;5;28;01mraise\u001b[39;00m exceptions\u001b[38;5;241m.\u001b[39mCapacityError(\n\u001b[1;32m   5311\u001b[0m             message\u001b[38;5;241m=\u001b[39mmessage,\n\u001b[1;32m   5312\u001b[0m             allowed_statuses\u001b[38;5;241m=\u001b[39m[\u001b[38;5;124m\"\u001b[39m\u001b[38;5;124mInService\u001b[39m\u001b[38;5;124m\"\u001b[39m],\n\u001b[1;32m   5313\u001b[0m             actual_status\u001b[38;5;241m=\u001b[39mstatus,\n\u001b[1;32m   5314\u001b[0m         )\n\u001b[0;32m-> 5315\u001b[0m     \u001b[38;5;28;01mraise\u001b[39;00m exceptions\u001b[38;5;241m.\u001b[39mUnexpectedStatusException(\n\u001b[1;32m   5316\u001b[0m         message\u001b[38;5;241m=\u001b[39mmessage,\n\u001b[1;32m   5317\u001b[0m         allowed_statuses\u001b[38;5;241m=\u001b[39m[\u001b[38;5;124m\"\u001b[39m\u001b[38;5;124mInService\u001b[39m\u001b[38;5;124m\"\u001b[39m],\n\u001b[1;32m   5318\u001b[0m         actual_status\u001b[38;5;241m=\u001b[39mstatus,\n\u001b[1;32m   5319\u001b[0m     )\n\u001b[1;32m   5320\u001b[0m \u001b[38;5;28;01mreturn\u001b[39;00m desc\n",
      "\u001b[0;31mUnexpectedStatusException\u001b[0m: Error hosting endpoint facefusion-byoc-2024-10-01-03-30-46-636: Failed. Reason: The primary container for production variant AllTraffic did not pass the ping health check. Please check CloudWatch logs for this endpoint.. Try changing the instance type or reference the troubleshooting page https://docs.aws.amazon.com/sagemaker/latest/dg/async-inference-troubleshooting.html"
     ]
    }
   ],
   "source": [
    "from sagemaker_ssh_helper.wrapper import SSHModelWrapper\n",
    "instance_type = \"ml.g5.4xlarge\"\n",
    "endpoint_name = sagemaker.utils.name_from_base(\"facefusion-byoc\")\n",
    "#endpoint_name = \"facefusion-byoc-2024-06-20-05-42-13-578\"\n",
    "\n",
    "ssh_wrapper = SSHModelWrapper.create(model, connection_wait_time_seconds=0)  # <--NEW--\n",
    "\n",
    "predictor = model.deploy(\n",
    "    initial_instance_count=1,\n",
    "    instance_type=instance_type,\n",
    "    endpoint_name=endpoint_name,\n",
    "    wait=True\n",
    ")"
   ]
  },
  {
   "cell_type": "code",
   "execution_count": null,
   "id": "146cd771-6606-4e6c-acfe-bd61d628d226",
   "metadata": {
    "tags": []
   },
   "outputs": [],
   "source": [
    "instance_ids = ssh_wrapper.get_instance_ids(timeout_in_sec=100)  # <--NEW-- \n",
    "print(f\"To connect over SSM run: aws ssm start-session --target {instance_ids[0]}\")"
   ]
  },
  {
   "cell_type": "markdown",
   "id": "3594fc7d",
   "metadata": {
    "tags": []
   },
   "source": [
    "## Realtime inferecne with sagemaker endpoint"
   ]
  },
  {
   "cell_type": "code",
   "execution_count": null,
   "id": "5b18bd94-7737-4ce4-9f3c-0a6a42367d4e",
   "metadata": {},
   "outputs": [],
   "source": [
    "import json\n",
    "runtime_sm_client = boto3.client(service_name=\"sagemaker-runtime\")\n",
    "endpointName=\"facefusion-sagemaker-endpoint2024-04-03-23-49-44\"\n",
    "request = {\"method\":\"submit\",\"input\":['-s','s3://sagemaker-us-west-2-687912291502/images/image1.jpg',\n",
    "                                      '-t','s3://sagemaker-us-west-2-687912291502/video/test.mp4',\n",
    "                                      '-o','/tmp/','-u','s3://sagemaker-us-west-2-687912291502/video/test_out2.mp4',\n",
    "                                      '--headless'],}\n",
    "def invoke_endpoint():\n",
    "    content_type = \"application/json\"\n",
    "    request_body = request\n",
    "    payload = json.dumps(request_body)\n",
    "    print(payload)\n",
    "    response = runtime_sm_client.invoke_endpoint(\n",
    "        EndpointName=endpointName,\n",
    "        ContentType=content_type,\n",
    "        Body=payload,\n",
    "    )\n",
    "    result = response['Body'].read().decode()\n",
    "    print('返回：',result)"
   ]
  },
  {
   "cell_type": "code",
   "execution_count": null,
   "id": "b01f4489",
   "metadata": {
    "tags": []
   },
   "outputs": [],
   "source": [
    "response=invoke_endpoint()"
   ]
  },
  {
   "cell_type": "code",
   "execution_count": null,
   "id": "a6163197-db06-414a-88a5-b58d804a8e03",
   "metadata": {
    "tags": []
   },
   "outputs": [],
   "source": [
    "!aws s3 cp s3://sagemaker-us-west-2-687912291502/video/test_out2.mp4 ./"
   ]
  },
  {
   "cell_type": "markdown",
   "id": "08128c00",
   "metadata": {
    "tags": []
   },
   "source": [
    "## client lib test"
   ]
  },
  {
   "cell_type": "markdown",
   "id": "a7ed5082-891a-4db3-aa2d-769d14fbdad0",
   "metadata": {},
   "source": [
    "#### 多对多换脸"
   ]
  },
  {
   "cell_type": "markdown",
   "id": "40ee125d-69d6-4474-8c89-cfdf5feb7df3",
   "metadata": {},
   "source": [
    "* step1: 从抽帧中提取多人脸"
   ]
  },
  {
   "cell_type": "code",
   "execution_count": null,
   "id": "468df35f-cbd8-46d1-bac5-dd6a63bf6ecf",
   "metadata": {},
   "outputs": [],
   "source": [
    "from ModelClient import ModelClient\n",
    "client = ModelClient(\"facefusion-v2.6\")\n",
    "client.set_endpoint(\"facefusion-byoc-2024-06-20-05-42-13-578\")\n",
    "refercen_faces_dict=client.analyze_video(\"test03\",\n",
    "                           source_video_s3_path='s3://facefusiondemo/de4291fe-abef-4f9d-ba75-b8ee9ab5fd67_mmexport1720427776894[1].mp4',\n",
    "                           frame_numer=12)\n"
   ]
  },
  {
   "cell_type": "markdown",
   "id": "373a61e4-d083-4db5-b2b3-27e02659b527",
   "metadata": {},
   "source": [
    "* step2: 指定mapping的源source image和抽取的多人脸mapping\n",
    "* mapping dict格式为{\"源source image序号\"：\"targe image base64编码\"}\n",
    "* 传入多张source images 数组格式"
   ]
  },
  {
   "cell_type": "code",
   "execution_count": null,
   "id": "0c5ca10b-f94e-47d0-800a-3ce2f59400a4",
   "metadata": {},
   "outputs": [],
   "source": [
    "# for test only， 真实对应关系应由前端页面指定后传入\n",
    "faces_mapping_dict={0:refercen_faces_dict[0],1:refercen_faces_dict[1]}"
   ]
  },
  {
   "cell_type": "code",
   "execution_count": null,
   "id": "dea46e61-6d04-4d2f-a73a-31bab6f8f1f4",
   "metadata": {},
   "outputs": [],
   "source": [
    "from ModelClient import ModelClient\n",
    "client = ModelClient(\"facefusion-v2.6\")\n",
    "client.set_endpoint(\"facefusion-byoc-2024-06-20-05-42-13-578\")\n",
    "job_id=client.submit_job(\"test03\",swap_face_images_s3_path=\"s3://facefusiondemo/42ddd7de-6d02-41a7-9268-c931a91be022_75725c7312cc532dc379f115db8b2c69.jpeg s3://sagemaker-us-west-2-687912291502/images/0708.jpeg\",\n",
    "                           source_video_s3_path='s3://facefusiondemo/de4291fe-abef-4f9d-ba75-b8ee9ab5fd67_mmexport1720427776894[1].mp4',\n",
    "                           output_video_s3_dir='s3://facefusiondemo/out',\n",
    "                           faces_mapping_dict=faces_mapping_dict)\n"
   ]
  },
  {
   "cell_type": "code",
   "execution_count": null,
   "id": "b555591e-50aa-4985-afc2-d8c158b7d5f1",
   "metadata": {},
   "outputs": [],
   "source": [
    "from ModelClient import ModelClient\n",
    "response = client.get_result(job_id)\n"
   ]
  },
  {
   "cell_type": "markdown",
   "id": "081f3c84-80f2-450c-b7d1-9879c81c945e",
   "metadata": {
    "jp-MarkdownHeadingCollapsed": true,
    "tags": []
   },
   "source": [
    "#### 多对一/一对一换脸"
   ]
  },
  {
   "cell_type": "code",
   "execution_count": 22,
   "id": "89926aff-dbe9-4ad9-b320-ba47833be215",
   "metadata": {
    "tags": []
   },
   "outputs": [
    {
     "name": "stdout",
     "output_type": "stream",
     "text": [
      "2024-04-16 01:54:56     124941 image1.jpg\n",
      "2024-06-15 11:38:50     123139 musk.jpg\n",
      "2024-06-21 08:06:06      47987 old.jpg\n",
      "2024-06-15 11:40:20      15280 tangyan.jpg\n"
     ]
    }
   ],
   "source": [
    "!aws s3 ls s3://sagemaker-us-west-2-687912291502/images/"
   ]
  },
  {
   "cell_type": "code",
   "execution_count": 4,
   "id": "17ce65e1-a285-4591-acb2-25d30b612038",
   "metadata": {
    "tags": []
   },
   "outputs": [
    {
     "name": "stdout",
     "output_type": "stream",
     "text": [
      "{\"method\": \"submit\", \"input\": [\"-s\", \"s3://facefusiondemo/42ddd7de-6d02-41a7-9268-c931a91be022_75725c7312cc532dc379f115db8b2c69.jpeg\", \"-t\", \"s3://facefusiondemo/de4291fe-abef-4f9d-ba75-b8ee9ab5fd67_mmexport1720427776894[1].mp4\", \"--execution-providers\", \"cuda\", \"-o\", \"/opt/program/output/e2b8367fae0844f8964c25014dea9d74-20240710083736.mp4\", \"-u\", \"s3://facefusiondemo/out/e2b8367fae0844f8964c25014dea9d74-20240710083736.mp4\", \"--headless\"]}\n",
      "返回： {\"message\": \"Command executed in background\"}\n"
     ]
    }
   ],
   "source": [
    "from ModelClient import ModelClient\n",
    "client = ModelClient(\"facefusion-v2.6\")\n",
    "client.set_endpoint(\"facefusion-byoc-2024-06-20-05-42-13-578\")\n",
    "job_id=client.submit_job(\"test03\",swap_face_image_s3_path=\"s3://facefusiondemo/42ddd7de-6d02-41a7-9268-c931a91be022_75725c7312cc532dc379f115db8b2c69.jpeg s3://sagemaker-us-west-2-687912291502/images/0708.jpeg\",\n",
    "                           source_video_s3_path='s3://facefusiondemo/de4291fe-abef-4f9d-ba75-b8ee9ab5fd67_mmexport1720427776894[1].mp4',\n",
    "                           output_video_s3_dir='s3://facefusiondemo/out')\n",
    "\n",
    "\n"
   ]
  },
  {
   "cell_type": "code",
   "execution_count": 16,
   "id": "58e1129e-3945-4f57-af6e-31123ac2727f",
   "metadata": {
    "tags": []
   },
   "outputs": [
    {
     "data": {
      "text/plain": [
       "'not finished'"
      ]
     },
     "execution_count": 16,
     "metadata": {},
     "output_type": "execute_result"
    }
   ],
   "source": [
    "from ModelClient import ModelClient\n",
    "#job_id=\"65af789625ac4f579aa156c2e8017677-20240707021418\"\n",
    "status = client.get_status( \"test03\", job_id)\n",
    "status"
   ]
  },
  {
   "cell_type": "code",
   "execution_count": null,
   "id": "f7f97a26-599c-4afc-8493-36ff1df8720b",
   "metadata": {},
   "outputs": [],
   "source": [
    "!aws s3 ls s3://facefusiondemo/out/e2b8367fae0844f8964c25014dea9d74-20240710083736.mp4\n",
    "from ModelClient import ModelClient\n",
    "response = client.get_result(job_id)\n"
   ]
  },
  {
   "cell_type": "code",
   "execution_count": 28,
   "id": "6d57f736-d2e4-4647-9f52-a0218fd71135",
   "metadata": {
    "tags": []
   },
   "outputs": [
    {
     "name": "stdout",
     "output_type": "stream",
     "text": [
      "<class 'bytes'>\n"
     ]
    }
   ],
   "source": [
    "print(type(response))"
   ]
  },
  {
   "cell_type": "code",
   "execution_count": 80,
   "id": "7295909d-bc65-4fb6-8fff-a0fb11e48c86",
   "metadata": {
    "tags": []
   },
   "outputs": [
    {
     "name": "stdout",
     "output_type": "stream",
     "text": [
      "download: s3://sagemaker-us-west-2-687912291502/video/out/9e08b0f6bd0447dabf71356772df0dbb-20240709075647.mp4 to ./9e08b0f6bd0447dabf71356772df0dbb-20240709075647.mp4\n"
     ]
    }
   ],
   "source": [
    "!aws s3 cp  s3://sagemaker-us-west-2-687912291502/video/out/9e08b0f6bd0447dabf71356772df0dbb-20240709075647.mp4 ./"
   ]
  },
  {
   "cell_type": "code",
   "execution_count": 135,
   "id": "9056663f-fd5b-4356-94bf-71c1f2de5b9a",
   "metadata": {},
   "outputs": [
    {
     "name": "stdout",
     "output_type": "stream",
     "text": [
      "                           PRE output/\n",
      "                           PRE raw/\n",
      "2024-06-21 10:07:45   19806949 09e76a560cb344568f08224f624ff505-20240621100643.mp4\n",
      "2024-06-15 01:53:48   15511703 0aec03207c094720a0b31ff360e8baaa-20240615015252.mp4\n",
      "2024-05-19 05:20:32   19226179 16a1750ae7804c8bb57c4a8cfdcb91c0-20240519051947.mp4\n",
      "2024-04-26 00:30:46   19224455 354ec5a802794faaaf48343f3591670f-20240426002420.mp4\n",
      "2024-06-20 08:33:17   13128549 3ea39874e63046259a0cf4eaa5b64cc9-20240620083251.mp4\n",
      "2024-06-22 07:26:32   19806949 4c02e9ea02c149b7b9da2b5814c61cbe-20240622072539.mp4\n",
      "2024-06-21 14:59:44    3322744 62d838c8e34a412da137a46914a28053-20240621145920.mp4\n",
      "2024-06-20 05:58:07    7658160 74ab4bdc853d4cd6a06f7d76f8e38318-20240620055728.mp4\n",
      "2024-04-26 00:18:33   19289209 7e758ed6615c4781822f529744e72017-20240426001203.mp4\n",
      "2024-06-15 12:56:10    7703173 83f6fb14f31d4e90bb6d42950bd0d0e3-20240615125538.mp4\n",
      "2024-06-15 03:12:55   15511703 845f73df5eef45eea15cfef861798351-20240615031159.mp4\n",
      "2024-06-17 09:30:43   13128549 89c45e7b59be4b018c12f92a8dac7c5f-20240617093017.mp4\n",
      "2024-06-21 09:51:20    3353262 94ed633b1aec4d5992605001be4da4e5-20240621095049.mp4\n",
      "2024-04-27 06:33:33   19226742 95db628d3ebb400cbaff9c72c9e3b643-20240427063246.mp4\n",
      "2024-06-21 08:25:50    3403385 9f16a0aed3bc43679ebbaaeb719a8f80-20240426025742.mp4\n",
      "2024-06-21 08:42:53   18288488 b599358d309048c5a7cb05e98ead6595-20240621084221.mp4\n",
      "2024-06-17 09:55:50   13128549 ba32d07bb55a4a05a924522a73896623-20240617095529.mp4\n",
      "2024-06-21 08:58:48    3105146 c4b21e9231424fbca6444fac4a737786-20240621085833.mp4\n",
      "2024-06-21 08:08:58   18288488 d2adf8c143b843a791c46b26979c9b83-20240621080816.mp4\n",
      "2024-06-20 08:35:46   13533621 e1d7cb3ee713493084ca3973abae2ed5-20240620083506.mp4\n",
      "2024-06-22 07:27:48    3403385 e800cba0d55e4d67987104773b58ed03-20240622072725.mp4\n",
      "2024-06-21 09:54:03    3403385 f7392d1f45e0482da2879a150ee24c97-20240621095339.mp4\n",
      "2024-03-20 01:23:26     196461 raw.f8484016-1fd6-4ce9-b5a6-d3d479a73450.mp3\n",
      "2024-04-16 01:56:08    5873921 test.mp4\n",
      "2024-06-17 09:29:52    2069442 test03.mp4\n",
      "2024-06-21 08:02:23     427769 test04.mp4\n",
      "2024-06-21 07:59:09   17865318 test05.mp4\n",
      "2024-06-15 11:41:51    1895907 test2.mp4\n",
      "2024-04-03 13:58:23   19219032 test_out.mp4\n",
      "2024-04-04 00:06:41   19219030 test_out2.mp4\n"
     ]
    }
   ],
   "source": [
    "!aws s3 ls s3://sagemaker-us-west-2-687912291502/video/"
   ]
  },
  {
   "cell_type": "code",
   "execution_count": null,
   "id": "4d8efb66-5f00-4d7c-96ff-ec9000dd7f45",
   "metadata": {},
   "outputs": [],
   "source": []
  }
 ],
 "metadata": {
  "kernelspec": {
   "display_name": "conda_python3",
   "language": "python",
   "name": "conda_python3"
  },
  "language_info": {
   "codemirror_mode": {
    "name": "ipython",
    "version": 3
   },
   "file_extension": ".py",
   "mimetype": "text/x-python",
   "name": "python",
   "nbconvert_exporter": "python",
   "pygments_lexer": "ipython3",
   "version": "3.10.14"
  }
 },
 "nbformat": 4,
 "nbformat_minor": 5
}
