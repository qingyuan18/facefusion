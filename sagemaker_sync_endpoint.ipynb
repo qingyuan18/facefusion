{
 "cells": [
  {
   "cell_type": "markdown",
   "id": "096b3004",
   "metadata": {},
   "source": [
    "# Facefusion on Sagemaker"
   ]
  },
  {
   "cell_type": "markdown",
   "id": "21ec2e51",
   "metadata": {
    "tags": []
   },
   "source": [
    "## build image"
   ]
  },
  {
   "cell_type": "code",
   "execution_count": null,
   "id": "07fd36b7",
   "metadata": {
    "tags": []
   },
   "outputs": [],
   "source": [
    "# 在 Facefusion-Sagemaker-Studio-Lab 目录执行如下命令，如上docker file是已CPU举例的，可以修改使用GPU 可以参考gpu_Dockerfile\n",
    "!./build_and_push.sh faces-swap-on-sagemaker"
   ]
  },
  {
   "cell_type": "code",
   "execution_count": 2,
   "id": "11514ade-df1c-4260-8797-83bfc5b279e7",
   "metadata": {
    "tags": []
   },
   "outputs": [
    {
     "name": "stdout",
     "output_type": "stream",
     "text": [
      "sagemaker.config INFO - Not applying SDK defaults from location: /etc/xdg/sagemaker/config.yaml\n",
      "sagemaker.config INFO - Not applying SDK defaults from location: /home/ec2-user/.config/sagemaker/config.yaml\n",
      "687912291502.dkr.ecr.us-west-2.amazonaws.com/faces-swap-on-sagemaker:latest\n"
     ]
    }
   ],
   "source": [
    "import boto3\n",
    "import sagemaker\n",
    "from sagemaker import Model, image_uris, serializers, deserializers\n",
    "\n",
    "role = sagemaker.get_execution_role()  # execution role for the endpoint\n",
    "sess = sagemaker.session.Session()  # sagemaker session for interacting with different AWS APIs\n",
    "region = sess._region_name  # region name of the current SageMaker Studio environment\n",
    "account_id = sess.account_id()  # account_id of the current SageMaker Studio environment\n",
    "bucket = sess.default_bucket()\n",
    "image=\"faces-swap-on-sagemaker\"\n",
    "s3_client = boto3.client(\"s3\")\n",
    "sm_client = boto3.client(\"sagemaker\")\n",
    "smr_client = boto3.client(\"sagemaker-runtime\")\n",
    "\n",
    "full_image_uri=f\"{account_id}.dkr.ecr.{region}.amazonaws.com/{image}:latest\"\n",
    "print(full_image_uri)"
   ]
  },
  {
   "cell_type": "markdown",
   "id": "a54bf5b1",
   "metadata": {
    "tags": []
   },
   "source": [
    "## remote debug test"
   ]
  },
  {
   "cell_type": "code",
   "execution_count": 3,
   "id": "131fe9fa-f2a3-49e0-8a83-156b00980d6d",
   "metadata": {
    "tags": []
   },
   "outputs": [
    {
     "name": "stdout",
     "output_type": "stream",
     "text": [
      "dummy\n",
      "upload: ./model.tar.gz to s3://sagemaker-us-west-2-687912291502/facefusion/assets/model.tar.gz\n"
     ]
    }
   ],
   "source": [
    "!touch dummy\n",
    "!tar czvf model.tar.gz dummy\n",
    "assets_dir = 's3://{0}/{1}/assets/'.format(bucket, 'facefusion')\n",
    "model_data = 's3://{0}/{1}/assets/model.tar.gz'.format(bucket, 'facefusion')\n",
    "!aws s3 cp model.tar.gz $assets_dir\n",
    "!rm -f dummy model.tar.gz"
   ]
  },
  {
   "cell_type": "code",
   "execution_count": 7,
   "id": "a9a45469-989b-4709-bc1f-8c6a59ac6fc0",
   "metadata": {
    "tags": []
   },
   "outputs": [],
   "source": [
    "from sagemaker_ssh_helper.wrapper import SSHModelWrapper\n",
    "model = Model(image_uri=full_image_uri, model_data=model_data, role=role,dependencies=[SSHModelWrapper.dependency_dir()] )"
   ]
  },
  {
   "cell_type": "code",
   "execution_count": 8,
   "id": "73e60433-09e8-449e-9fc5-6fbd639d98f2",
   "metadata": {
    "tags": []
   },
   "outputs": [
    {
     "name": "stdout",
     "output_type": "stream",
     "text": [
      "-------------!"
     ]
    }
   ],
   "source": [
    "from sagemaker_ssh_helper.wrapper import SSHModelWrapper\n",
    "instance_type = \"ml.g5.4xlarge\"\n",
    "endpoint_name = sagemaker.utils.name_from_base(\"facefusion-byoc\")\n",
    "#endpoint_name = \"facefusion-byoc-2024-06-20-05-42-13-578\"\n",
    "\n",
    "ssh_wrapper = SSHModelWrapper.create(model, connection_wait_time_seconds=0)  # <--NEW--\n",
    "\n",
    "predictor = model.deploy(\n",
    "    initial_instance_count=1,\n",
    "    instance_type=instance_type,\n",
    "    endpoint_name=endpoint_name,\n",
    "    wait=True\n",
    ")"
   ]
  },
  {
   "cell_type": "code",
   "execution_count": null,
   "id": "146cd771-6606-4e6c-acfe-bd61d628d226",
   "metadata": {
    "tags": []
   },
   "outputs": [],
   "source": [
    "instance_ids = ssh_wrapper.get_instance_ids(timeout_in_sec=100)  # <--NEW-- \n",
    "print(f\"To connect over SSM run: aws ssm start-session --target {instance_ids[0]}\")"
   ]
  },
  {
   "cell_type": "markdown",
   "id": "6abe8919-0bb9-43c0-8d03-4a2a2a1e9a2e",
   "metadata": {
    "jp-MarkdownHeadingCollapsed": true,
    "tags": []
   },
   "source": [
    "## SM endpoint test"
   ]
  },
  {
   "cell_type": "markdown",
   "id": "a1663aa2",
   "metadata": {
    "tags": []
   },
   "source": [
    "### create sagemaker model"
   ]
  },
  {
   "cell_type": "code",
   "execution_count": null,
   "id": "3623fcd0",
   "metadata": {},
   "outputs": [],
   "source": [
    "import boto3\n",
    "import re\n",
    "import os\n",
    "import json\n",
    "import uuid\n",
    "import boto3\n",
    "import sagemaker\n",
    "from time import gmtime, strftime\n",
    "## for debug only\n",
    "from sagemaker_ssh_helper.wrapper import SSHModelWrapper\n",
    "sm_client = boto3.client(service_name='sagemaker')\n",
    "\n",
    "\n",
    "\n",
    "def create_model():\n",
    "    image=full_image_uri\n",
    "    model_name=\"facefusion-sagemaker-01\"+strftime(\"%Y-%m-%d-%H-%M-%S\", gmtime())\n",
    "    create_model_response = sm_client.create_model(\n",
    "        ModelName=model_name,\n",
    "        ExecutionRoleArn=role,\n",
    "        Containers=[{\"Image\": image}],\n",
    "    )\n",
    "    print(create_model_response)\n",
    "    return model_name"
   ]
  },
  {
   "cell_type": "code",
   "execution_count": null,
   "id": "e913d8d0",
   "metadata": {},
   "outputs": [],
   "source": [
    "model_name=create_model()"
   ]
  },
  {
   "cell_type": "markdown",
   "id": "4159960d",
   "metadata": {
    "tags": []
   },
   "source": [
    "### create endpoint configuration"
   ]
  },
  {
   "cell_type": "code",
   "execution_count": null,
   "id": "01b4ba47",
   "metadata": {},
   "outputs": [],
   "source": [
    "endpointConfigName = \"facefusion-sagemaker-configuration\"+strftime(\"%Y-%m-%d-%H-%M-%S\", gmtime())\n",
    "def create_endpoint_configuration():\n",
    "    create_endpoint_config_response = sm_client.create_endpoint_config(     \n",
    "        EndpointConfigName=endpointConfigName,\n",
    "        ProductionVariants=[\n",
    "            {\n",
    "                \"ModelName\":\"facefusion-sagemaker-012024-03-28-04-00-03\",\n",
    "                #\"ModelName\":model_name,\n",
    "                \"VariantName\": \"facefusion-sagemaker\"+\"-variant\",\n",
    "                \"InstanceType\": \"ml.g5.2xlarge\",  # 指定 g5.2xlarge 机器\n",
    "                \"InitialInstanceCount\": 1,\n",
    "                \"ModelDataDownloadTimeoutInSeconds\": 1200,\n",
    "                \"ContainerStartupHealthCheckTimeoutInSeconds\": 1200\n",
    "            }\n",
    "        ],\n",
    "    )\n",
    "    print(create_endpoint_config_response)\n",
    "    return endpointConfigName"
   ]
  },
  {
   "cell_type": "code",
   "execution_count": null,
   "id": "d06fb9ae",
   "metadata": {},
   "outputs": [],
   "source": [
    "create_endpoint_configuration()"
   ]
  },
  {
   "cell_type": "markdown",
   "id": "e6e35082",
   "metadata": {
    "tags": []
   },
   "source": [
    "### create endpoint"
   ]
  },
  {
   "cell_type": "code",
   "execution_count": null,
   "id": "40abb7a9",
   "metadata": {},
   "outputs": [],
   "source": [
    "endpointName=\"facefusion-sagemaker-endpoint\"+strftime(\"%Y-%m-%d-%H-%M-%S\", gmtime())\n",
    "def create_endpoint():\n",
    "    create_endpoint_response = sm_client.create_endpoint(\n",
    "        EndpointName=endpointName,\n",
    "        #EndpointConfigName=\"facefusion-sagemaker-configuration2024-03-28-04-03-53\",\n",
    "        EndpointConfigName=endpointConfigName\n",
    "    )\n",
    "    print(\"Endpoint Arn: \" + create_endpoint_response[\"EndpointArn\"])\n",
    "    resp = sm_client.describe_endpoint(EndpointName=endpointName)\n",
    "    print(\"Endpoint Status: \" + resp[\"EndpointStatus\"])\n",
    "    print(\"Waiting for {} endpoint to be in service\".format(\"facefusion-sagemaker-endpoint\"))\n",
    "    waiter = sm_client.get_waiter(\"endpoint_in_service\")\n",
    "    waiter.wait(EndpointName=endpointName)"
   ]
  },
  {
   "cell_type": "code",
   "execution_count": null,
   "id": "adeafb65",
   "metadata": {},
   "outputs": [],
   "source": [
    "create_endpoint()"
   ]
  },
  {
   "cell_type": "markdown",
   "id": "3594fc7d",
   "metadata": {
    "jp-MarkdownHeadingCollapsed": true,
    "tags": []
   },
   "source": [
    "## Realtime inferecne with sagemaker endpoint"
   ]
  },
  {
   "cell_type": "code",
   "execution_count": null,
   "id": "3a4dae12",
   "metadata": {},
   "outputs": [],
   "source": [
    "import json\n",
    "runtime_sm_client = boto3.client(service_name=\"sagemaker-runtime\")\n",
    "#endpointName=\"facefusion-sagemaker-endpoint2024-04-03-23-49-44\"\n",
    "request = {\"method\":\"submit\",\"input\":['-s','s3://sagemaker-us-west-2-687912291502/images/image1.jpg',\n",
    "                                      '-t','s3://sagemaker-us-west-2-687912291502/video/test.mp4',\n",
    "                                      '-o','/tmp/','-u','s3://sagemaker-us-west-2-687912291502/video/test_out2.mp4',\n",
    "                                      '--headless'],}\n",
    "def invoke_endpoint():\n",
    "    content_type = \"application/json\"\n",
    "    request_body = request\n",
    "    payload = json.dumps(request_body)\n",
    "    print(payload)\n",
    "    response = runtime_sm_client.invoke_endpoint(\n",
    "        EndpointName=endpointName,\n",
    "        ContentType=content_type,\n",
    "        Body=payload,\n",
    "    )\n",
    "    result = response['Body'].read().decode()\n",
    "    print('返回：',result)"
   ]
  },
  {
   "cell_type": "code",
   "execution_count": null,
   "id": "b01f4489",
   "metadata": {
    "tags": []
   },
   "outputs": [],
   "source": [
    "response=invoke_endpoint()"
   ]
  },
  {
   "cell_type": "code",
   "execution_count": null,
   "id": "a6163197-db06-414a-88a5-b58d804a8e03",
   "metadata": {
    "tags": []
   },
   "outputs": [],
   "source": [
    "!aws s3 cp s3://sagemaker-us-west-2-687912291502/video/test_out2.mp4 ./"
   ]
  },
  {
   "cell_type": "markdown",
   "id": "5595ee01",
   "metadata": {
    "jp-MarkdownHeadingCollapsed": true,
    "tags": []
   },
   "source": [
    "## Async inference"
   ]
  },
  {
   "cell_type": "code",
   "execution_count": null,
   "id": "cd4b772d",
   "metadata": {},
   "outputs": [],
   "source": [
    "_time_tag = strftime(\"%Y-%m-%d-%H-%M-%S\", gmtime())\n",
    "_variant_name =  'facusion-'+ _time_tag\n",
    "endpoint_config_name = f'facefusion-{str(uuid.uuid4())}'\n",
    "\n",
    "response = client.create_endpoint_config(\n",
    "    EndpointConfigName=endpoint_config_name,\n",
    "    ProductionVariants=[\n",
    "        {\n",
    "            'VariantName': _variant_name,\n",
    "            'ModelName': model_name,\n",
    "            'InitialInstanceCount': 1,\n",
    "            'InstanceType': 'ml.c5.large',\n",
    "            'InitialVariantWeight': 1\n",
    "        },\n",
    "    ]\n",
    "    ,\n",
    "    AsyncInferenceConfig={\n",
    "        'OutputConfig': {\n",
    "            'S3OutputPath': f's3://{bucket}/stablediffusion/asyncinvoke/out/'\n",
    "        }\n",
    "    }\n",
    ")"
   ]
  },
  {
   "cell_type": "code",
   "execution_count": null,
   "id": "eb1ec780",
   "metadata": {},
   "outputs": [],
   "source": [
    "endpoint_name = f'facefusion-{str(uuid.uuid4())}'\n",
    "\n",
    "response = client.create_endpoint(\n",
    "    EndpointName=endpoint_name,\n",
    "    EndpointConfigName=\"endpoint_config_name\",\n",
    "    \n",
    ")\n",
    "\n",
    "print(f'终端节点:{endpoint_name} 正在创建中，首次启动中会加载模型，请耐心等待, 请在控制台上查看状态')\n"
   ]
  },
  {
   "cell_type": "code",
   "execution_count": null,
   "id": "5d745c1a",
   "metadata": {},
   "outputs": [],
   "source": [
    "import time\n",
    "def predict_async(endpoint_name,payload):\n",
    "    runtime_client = boto3.client('runtime.sagemaker')\n",
    "    input_file=str(uuid.uuid4())+\".json\"\n",
    "    s3_resource = boto3.resource('s3')\n",
    "    s3_object = s3_resource.Object(bucket, f'stablediffusion/asyncinvoke/input/{input_file}')\n",
    "    payload_data = json.dumps(payload).encode('utf-8')\n",
    "    s3_object.put( Body=bytes(payload_data))\n",
    "    input_location=f's3://{bucket}/stablediffusion/asyncinvoke/input/{input_file}'\n",
    "    print(f'input_location: {input_location}')\n",
    "    response = runtime_client.invoke_endpoint_async(\n",
    "        EndpointName=endpoint_name,\n",
    "        InputLocation=input_location\n",
    "    )\n",
    "    result =response.get(\"OutputLocation\",'')\n",
    "    wait_async_result(result)\n",
    "    \n",
    "def wait_async_result(output_location,timeout=60):\n",
    "    current_time=0\n",
    "    while current_time<timeout:\n",
    "        if s3_object_exists(output_location):\n",
    "            print(\"have async result\")\n",
    "            draw_image(output_location)\n",
    "            break\n",
    "        else:\n",
    "            time.sleep(5)\n",
    "def s3_object_exists(s3_path):\n",
    "    \"\"\"\n",
    "    s3_object_exists\n",
    "    \"\"\"\n",
    "    try:\n",
    "        s3 = boto3.client('s3')\n",
    "        base_name=os.path.basename(s3_path)\n",
    "        _,ext_name=os.path.splitext(base_name)\n",
    "        bucket,key=get_bucket_and_key(s3_path)\n",
    "        \n",
    "        s3.head_object(Bucket=bucket, Key=key)\n",
    "        return True\n",
    "    except Exception as ex:\n",
    "        print(\"job is not completed, waiting...\")   \n",
    "        return False"
   ]
  },
  {
   "cell_type": "markdown",
   "id": "08128c00",
   "metadata": {
    "tags": []
   },
   "source": [
    "## client lib test"
   ]
  },
  {
   "cell_type": "code",
   "execution_count": 22,
   "id": "89926aff-dbe9-4ad9-b320-ba47833be215",
   "metadata": {
    "tags": []
   },
   "outputs": [
    {
     "name": "stdout",
     "output_type": "stream",
     "text": [
      "2024-04-16 01:54:56     124941 image1.jpg\n",
      "2024-06-15 11:38:50     123139 musk.jpg\n",
      "2024-06-21 08:06:06      47987 old.jpg\n",
      "2024-06-15 11:40:20      15280 tangyan.jpg\n"
     ]
    }
   ],
   "source": [
    "!aws s3 ls s3://sagemaker-us-west-2-687912291502/images/"
   ]
  },
  {
   "cell_type": "code",
   "execution_count": 4,
   "id": "17ce65e1-a285-4591-acb2-25d30b612038",
   "metadata": {
    "tags": []
   },
   "outputs": [
    {
     "name": "stdout",
     "output_type": "stream",
     "text": [
      "{\"method\": \"submit\", \"input\": [\"-s\", \"s3://facefusiondemo/42ddd7de-6d02-41a7-9268-c931a91be022_75725c7312cc532dc379f115db8b2c69.jpeg\", \"-t\", \"s3://facefusiondemo/de4291fe-abef-4f9d-ba75-b8ee9ab5fd67_mmexport1720427776894[1].mp4\", \"--execution-providers\", \"cuda\", \"-o\", \"/opt/program/output/e2b8367fae0844f8964c25014dea9d74-20240710083736.mp4\", \"-u\", \"s3://facefusiondemo/out/e2b8367fae0844f8964c25014dea9d74-20240710083736.mp4\", \"--headless\"]}\n",
      "返回： {\"message\": \"Command executed in background\"}\n"
     ]
    }
   ],
   "source": [
    "from ModelClient import ModelClient\n",
    "client = ModelClient(\"facefusion-v2.6\")\n",
    "client.set_endpoint(\"facefusion-byoc-2024-06-20-05-42-13-578\")\n",
    "job_id=client.submit_job(\"test03\",swap_face_image_s3_path=\"s3://facefusiondemo/42ddd7de-6d02-41a7-9268-c931a91be022_75725c7312cc532dc379f115db8b2c69.jpeg\",\n",
    "                           source_video_s3_path='s3://facefusiondemo/de4291fe-abef-4f9d-ba75-b8ee9ab5fd67_mmexport1720427776894[1].mp4',\n",
    "                           output_video_s3_dir='s3://facefusiondemo/out')\n",
    "\n",
    "\n"
   ]
  },
  {
   "cell_type": "code",
   "execution_count": 16,
   "id": "58e1129e-3945-4f57-af6e-31123ac2727f",
   "metadata": {
    "tags": []
   },
   "outputs": [
    {
     "data": {
      "text/plain": [
       "'not finished'"
      ]
     },
     "execution_count": 16,
     "metadata": {},
     "output_type": "execute_result"
    }
   ],
   "source": [
    "from ModelClient import ModelClient\n",
    "#job_id=\"65af789625ac4f579aa156c2e8017677-20240707021418\"\n",
    "status = client.get_status( \"test03\", job_id)\n",
    "status"
   ]
  },
  {
   "cell_type": "code",
   "execution_count": null,
   "id": "f7f97a26-599c-4afc-8493-36ff1df8720b",
   "metadata": {},
   "outputs": [],
   "source": [
    "!aws s3 ls s3://facefusiondemo/out/e2b8367fae0844f8964c25014dea9d74-20240710083736.mp4\n",
    "from ModelClient import ModelClient\n",
    "response = client.get_result(job_id)\n"
   ]
  },
  {
   "cell_type": "code",
   "execution_count": 28,
   "id": "6d57f736-d2e4-4647-9f52-a0218fd71135",
   "metadata": {
    "tags": []
   },
   "outputs": [
    {
     "name": "stdout",
     "output_type": "stream",
     "text": [
      "<class 'bytes'>\n"
     ]
    }
   ],
   "source": [
    "print(type(response))"
   ]
  },
  {
   "cell_type": "code",
   "execution_count": 80,
   "id": "7295909d-bc65-4fb6-8fff-a0fb11e48c86",
   "metadata": {
    "tags": []
   },
   "outputs": [
    {
     "name": "stdout",
     "output_type": "stream",
     "text": [
      "download: s3://sagemaker-us-west-2-687912291502/video/out/9e08b0f6bd0447dabf71356772df0dbb-20240709075647.mp4 to ./9e08b0f6bd0447dabf71356772df0dbb-20240709075647.mp4\n"
     ]
    }
   ],
   "source": [
    "!aws s3 cp  s3://sagemaker-us-west-2-687912291502/video/out/9e08b0f6bd0447dabf71356772df0dbb-20240709075647.mp4 ./"
   ]
  },
  {
   "cell_type": "code",
   "execution_count": 135,
   "id": "9056663f-fd5b-4356-94bf-71c1f2de5b9a",
   "metadata": {},
   "outputs": [
    {
     "name": "stdout",
     "output_type": "stream",
     "text": [
      "                           PRE output/\n",
      "                           PRE raw/\n",
      "2024-06-21 10:07:45   19806949 09e76a560cb344568f08224f624ff505-20240621100643.mp4\n",
      "2024-06-15 01:53:48   15511703 0aec03207c094720a0b31ff360e8baaa-20240615015252.mp4\n",
      "2024-05-19 05:20:32   19226179 16a1750ae7804c8bb57c4a8cfdcb91c0-20240519051947.mp4\n",
      "2024-04-26 00:30:46   19224455 354ec5a802794faaaf48343f3591670f-20240426002420.mp4\n",
      "2024-06-20 08:33:17   13128549 3ea39874e63046259a0cf4eaa5b64cc9-20240620083251.mp4\n",
      "2024-06-22 07:26:32   19806949 4c02e9ea02c149b7b9da2b5814c61cbe-20240622072539.mp4\n",
      "2024-06-21 14:59:44    3322744 62d838c8e34a412da137a46914a28053-20240621145920.mp4\n",
      "2024-06-20 05:58:07    7658160 74ab4bdc853d4cd6a06f7d76f8e38318-20240620055728.mp4\n",
      "2024-04-26 00:18:33   19289209 7e758ed6615c4781822f529744e72017-20240426001203.mp4\n",
      "2024-06-15 12:56:10    7703173 83f6fb14f31d4e90bb6d42950bd0d0e3-20240615125538.mp4\n",
      "2024-06-15 03:12:55   15511703 845f73df5eef45eea15cfef861798351-20240615031159.mp4\n",
      "2024-06-17 09:30:43   13128549 89c45e7b59be4b018c12f92a8dac7c5f-20240617093017.mp4\n",
      "2024-06-21 09:51:20    3353262 94ed633b1aec4d5992605001be4da4e5-20240621095049.mp4\n",
      "2024-04-27 06:33:33   19226742 95db628d3ebb400cbaff9c72c9e3b643-20240427063246.mp4\n",
      "2024-06-21 08:25:50    3403385 9f16a0aed3bc43679ebbaaeb719a8f80-20240426025742.mp4\n",
      "2024-06-21 08:42:53   18288488 b599358d309048c5a7cb05e98ead6595-20240621084221.mp4\n",
      "2024-06-17 09:55:50   13128549 ba32d07bb55a4a05a924522a73896623-20240617095529.mp4\n",
      "2024-06-21 08:58:48    3105146 c4b21e9231424fbca6444fac4a737786-20240621085833.mp4\n",
      "2024-06-21 08:08:58   18288488 d2adf8c143b843a791c46b26979c9b83-20240621080816.mp4\n",
      "2024-06-20 08:35:46   13533621 e1d7cb3ee713493084ca3973abae2ed5-20240620083506.mp4\n",
      "2024-06-22 07:27:48    3403385 e800cba0d55e4d67987104773b58ed03-20240622072725.mp4\n",
      "2024-06-21 09:54:03    3403385 f7392d1f45e0482da2879a150ee24c97-20240621095339.mp4\n",
      "2024-03-20 01:23:26     196461 raw.f8484016-1fd6-4ce9-b5a6-d3d479a73450.mp3\n",
      "2024-04-16 01:56:08    5873921 test.mp4\n",
      "2024-06-17 09:29:52    2069442 test03.mp4\n",
      "2024-06-21 08:02:23     427769 test04.mp4\n",
      "2024-06-21 07:59:09   17865318 test05.mp4\n",
      "2024-06-15 11:41:51    1895907 test2.mp4\n",
      "2024-04-03 13:58:23   19219032 test_out.mp4\n",
      "2024-04-04 00:06:41   19219030 test_out2.mp4\n"
     ]
    }
   ],
   "source": [
    "!aws s3 ls s3://sagemaker-us-west-2-687912291502/video/"
   ]
  },
  {
   "cell_type": "code",
   "execution_count": null,
   "id": "4d8efb66-5f00-4d7c-96ff-ec9000dd7f45",
   "metadata": {},
   "outputs": [],
   "source": []
  }
 ],
 "metadata": {
  "kernelspec": {
   "display_name": "conda_python3",
   "language": "python",
   "name": "conda_python3"
  },
  "language_info": {
   "codemirror_mode": {
    "name": "ipython",
    "version": 3
   },
   "file_extension": ".py",
   "mimetype": "text/x-python",
   "name": "python",
   "nbconvert_exporter": "python",
   "pygments_lexer": "ipython3",
   "version": "3.10.14"
  }
 },
 "nbformat": 4,
 "nbformat_minor": 5
}
