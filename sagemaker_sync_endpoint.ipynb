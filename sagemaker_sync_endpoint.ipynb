{
 "cells": [
  {
   "cell_type": "markdown",
   "id": "096b3004",
   "metadata": {},
   "source": [
    "# Facefusion on Sagemaker"
   ]
  },
  {
   "cell_type": "markdown",
   "id": "21ec2e51",
   "metadata": {},
   "source": [
    "## build image"
   ]
  },
  {
   "cell_type": "code",
   "execution_count": null,
   "id": "66539e45",
   "metadata": {},
   "outputs": [],
   "source": [
    "# Build an image that can do training and inference in SageMaker\n",
    "# This is a Python 3 image that uses the nginx, gunicorn, flask stack\n",
    "# for serving inferences in a stable way.\n",
    "\n",
    "# FROM pytorch/pytorch:2.1.0-cuda11.8-cudnn8-devel\n",
    "# FROM 763104351884.dkr.ecr.us-east-1.amazonaws.com/pytorch-inference:2.1.0-cpu-py310-ubuntu20.04-ec2\n",
    "# FROM 763104351884.dkr.ecr.us-east-1.amazonaws.com/pytorch-inference:2.1.0-gpu-py310-cu118-ubuntu20.04-ec2\n",
    "# FROM 763104351884.dkr.ecr.us-east-1.amazonaws.com/pytorch-inference:1.13.1-gpu-py39-cu117-ubuntu20.04-ec2\n",
    "# ref from https://github.com/facefusion/facefusion-docker\n",
    "FROM python:3.10\n",
    "ARG DEBIAN_FRONTEND=noninteractive\n",
    "ARG FACEFUSION_VERSION=2.3.0\n",
    "ENV GRADIO_SERVER_NAME=0.0.0.0\n",
    "ENV PYTHONUNBUFFERED=TRUE\n",
    "ENV PYTHONDONTWRITEBYTECODE=TRUE\n",
    "ENV PATH=\"/opt/program:${PATH}\"\n",
    "\n",
    "\n",
    "WORKDIR /opt/program\n",
    "\n",
    "RUN apt-get update\n",
    "RUN apt-get install curl -y\n",
    "RUN apt-get install ffmpeg -y\n",
    "\n",
    "##安装sagemaker endpoint所需的组件\n",
    "RUN apt-get install nginx -y  \n",
    "RUN pip install --no-cache-dir boto3 flask gunicorn\n",
    "# RUN git clone https://github.com/facefusion/facefusion.git --branch ${FACEFUSION_VERSION} --single-branch .\n",
    "##拷贝包含sagemaker endpoint所需的python和配置文件\n",
    "COPY facefusion /opt/program\n",
    "RUN python install.py --torch cpu --onnxruntime default\n",
    "\n",
    "WORKDIR /opt/program"
   ]
  },
  {
   "cell_type": "code",
   "execution_count": null,
   "id": "07fd36b7",
   "metadata": {
    "tags": []
   },
   "outputs": [],
   "source": [
    "# 在 Facefusion-Sagemaker-Studio-Lab 目录执行如下命令，如上docker file是已CPU举例的，可以修改使用GPU 可以参考gpu_Dockerfile\n",
    "!./build_and_push.sh faces-swap-on-sagemaker"
   ]
  },
  {
   "cell_type": "code",
   "execution_count": null,
   "id": "11514ade-df1c-4260-8797-83bfc5b279e7",
   "metadata": {},
   "outputs": [],
   "source": [
    "import boto3\n",
    "import sagemaker\n",
    "from sagemaker import Model, image_uris, serializers, deserializers\n",
    "\n",
    "role = sagemaker.get_execution_role()  # execution role for the endpoint\n",
    "sess = sagemaker.session.Session()  # sagemaker session for interacting with different AWS APIs\n",
    "region = sess._region_name  # region name of the current SageMaker Studio environment\n",
    "account_id = sess.account_id()  # account_id of the current SageMaker Studio environment\n",
    "bucket = sess.default_bucket()\n",
    "image=\"faces-swap-on-sagemaker\"\n",
    "s3_client = boto3.client(\"s3\")\n",
    "sm_client = boto3.client(\"sagemaker\")\n",
    "smr_client = boto3.client(\"sagemaker-runtime\")\n",
    "\n",
    "full_image_uri=f\"{account_id}.dkr.ecr.{region}.amazonaws.com/{image}:latest\"\n",
    "print(full_image_uri)"
   ]
  },
  {
   "cell_type": "markdown",
   "id": "a54bf5b1",
   "metadata": {
    "tags": []
   },
   "source": [
    "## remote debug test"
   ]
  },
  {
   "cell_type": "code",
   "execution_count": null,
   "id": "7f9f16a0",
   "metadata": {},
   "outputs": [],
   "source": [
    "# 镜像构建完毕后，使用如下命令在Facefusion-Sagemaker-Studio-Lab目录执行,本地启动docker 镜像\n",
    "./local_test/serve_local.sh facefusion-sagemaker"
   ]
  },
  {
   "cell_type": "code",
   "execution_count": null,
   "id": "131fe9fa-f2a3-49e0-8a83-156b00980d6d",
   "metadata": {},
   "outputs": [],
   "source": [
    "!touch dummy\n",
    "!tar czvf model.tar.gz dummy\n",
    "assets_dir = 's3://{0}/{1}/assets/'.format(bucket, 'facefusion')\n",
    "model_data = 's3://{0}/{1}/assets/model.tar.gz'.format(bucket, 'facefusion')\n",
    "!aws s3 cp model.tar.gz $assets_dir\n",
    "!rm -f dummy model.tar.gz"
   ]
  },
  {
   "cell_type": "code",
   "execution_count": null,
   "id": "a9a45469-989b-4709-bc1f-8c6a59ac6fc0",
   "metadata": {},
   "outputs": [],
   "source": [
    "from sagemaker_ssh_helper.wrapper import SSHModelWrapper\n",
    "model = Model(image_uri=full_image_uri, model_data=model_data, role=role,dependencies=[SSHModelWrapper.dependency_dir()] )"
   ]
  },
  {
   "cell_type": "code",
   "execution_count": null,
   "id": "73e60433-09e8-449e-9fc5-6fbd639d98f2",
   "metadata": {},
   "outputs": [],
   "source": [
    "from sagemaker_ssh_helper.wrapper import SSHModelWrapper\n",
    "instance_type = \"ml.g5.xlarge\"\n",
    "endpoint_name = sagemaker.utils.name_from_base(\"facefusion-byoc\")\n",
    "\n",
    "\n",
    "ssh_wrapper = SSHModelWrapper.create(model, connection_wait_time_seconds=0)  # <--NEW--\n",
    "\n",
    "predictor: Predictor = model.deploy(\n",
    "    initial_instance_count=1,\n",
    "    instance_type=instance_type,\n",
    "    endpoint_name=endpoint_name,\n",
    "    wait=True\n",
    ")\n",
    "\n",
    "\n",
    "print(f\"To connect over SSH run: sm-local-ssh-training connect {ssh_wrapper.training_job_name()}\")\n",
    "instance_ids = ssh_wrapper.get_instance_ids(timeout_in_sec=900)  # <--NEW-- \n",
    "print(f\"To connect over SSM run: aws ssm start-session --target {instance_ids[0]}\")"
   ]
  },
  {
   "cell_type": "code",
   "execution_count": null,
   "id": "d1d6e346",
   "metadata": {
    "tags": []
   },
   "outputs": [],
   "source": [
    "# 新建CLI终端执行如下命令用于本地测试\n",
    "curl -XPOST xxxxx:8080/invocations  -H 'content-type:application/json'  -d '{\"input\":\"python run.py -s image1.jpg -t test.mp4 -o . --headless\"}'"
   ]
  },
  {
   "cell_type": "markdown",
   "id": "6abe8919-0bb9-43c0-8d03-4a2a2a1e9a2e",
   "metadata": {
    "tags": []
   },
   "source": [
    "## SM endpoint test"
   ]
  },
  {
   "cell_type": "markdown",
   "id": "a1663aa2",
   "metadata": {
    "tags": []
   },
   "source": [
    "### create sagemaker model"
   ]
  },
  {
   "cell_type": "code",
   "execution_count": 15,
   "id": "3623fcd0",
   "metadata": {},
   "outputs": [],
   "source": [
    "import boto3\n",
    "import re\n",
    "import os\n",
    "import json\n",
    "import uuid\n",
    "import boto3\n",
    "import sagemaker\n",
    "from time import gmtime, strftime\n",
    "## for debug only\n",
    "from sagemaker_ssh_helper.wrapper import SSHModelWrapper\n",
    "sm_client = boto3.client(service_name='sagemaker')\n",
    "\n",
    "\n",
    "\n",
    "def create_model():\n",
    "    image=full_image_uri\n",
    "    model_name=\"facefusion-sagemaker-01\"+strftime(\"%Y-%m-%d-%H-%M-%S\", gmtime())\n",
    "    create_model_response = sm_client.create_model(\n",
    "        ModelName=model_name,\n",
    "        ExecutionRoleArn=role,\n",
    "        Containers=[{\"Image\": image}],\n",
    "    )\n",
    "    print(create_model_response)\n",
    "    return model_name"
   ]
  },
  {
   "cell_type": "code",
   "execution_count": 16,
   "id": "e913d8d0",
   "metadata": {},
   "outputs": [
    {
     "name": "stdout",
     "output_type": "stream",
     "text": [
      "{'ModelArn': 'arn:aws:sagemaker:us-west-2:687912291502:model/facefusion-sagemaker-012024-04-22-10-35-56', 'ResponseMetadata': {'RequestId': '79b9813a-f363-4386-820c-3a713ed6fc0a', 'HTTPStatusCode': 200, 'HTTPHeaders': {'x-amzn-requestid': '79b9813a-f363-4386-820c-3a713ed6fc0a', 'content-type': 'application/x-amz-json-1.1', 'content-length': '104', 'date': 'Mon, 22 Apr 2024 10:35:56 GMT'}, 'RetryAttempts': 0}}\n"
     ]
    }
   ],
   "source": [
    "model_name=create_model()"
   ]
  },
  {
   "cell_type": "markdown",
   "id": "4159960d",
   "metadata": {
    "tags": []
   },
   "source": [
    "### create endpoint configuration"
   ]
  },
  {
   "cell_type": "code",
   "execution_count": 17,
   "id": "01b4ba47",
   "metadata": {},
   "outputs": [],
   "source": [
    "endpointConfigName = \"facefusion-sagemaker-configuration\"+strftime(\"%Y-%m-%d-%H-%M-%S\", gmtime())\n",
    "def create_endpoint_configuration():\n",
    "    create_endpoint_config_response = sm_client.create_endpoint_config(     \n",
    "        EndpointConfigName=endpointConfigName,\n",
    "        ProductionVariants=[\n",
    "            {\n",
    "                \"ModelName\":\"facefusion-sagemaker-012024-03-28-04-00-03\",\n",
    "                #\"ModelName\":model_name,\n",
    "                \"VariantName\": \"facefusion-sagemaker\"+\"-variant\",\n",
    "                \"InstanceType\": \"ml.g5.2xlarge\",  # 指定 g5.2xlarge 机器\n",
    "                \"InitialInstanceCount\": 1,\n",
    "                \"ModelDataDownloadTimeoutInSeconds\": 1200,\n",
    "                \"ContainerStartupHealthCheckTimeoutInSeconds\": 1200\n",
    "            }\n",
    "        ],\n",
    "    )\n",
    "    print(create_endpoint_config_response)\n",
    "    return endpointConfigName"
   ]
  },
  {
   "cell_type": "code",
   "execution_count": 18,
   "id": "d06fb9ae",
   "metadata": {},
   "outputs": [
    {
     "name": "stdout",
     "output_type": "stream",
     "text": [
      "{'EndpointConfigArn': 'arn:aws:sagemaker:us-west-2:687912291502:endpoint-config/facefusion-sagemaker-configuration2024-04-22-10-35-57', 'ResponseMetadata': {'RequestId': '280edf7e-b935-4034-8f2c-75fe548c76f0', 'HTTPStatusCode': 200, 'HTTPHeaders': {'x-amzn-requestid': '280edf7e-b935-4034-8f2c-75fe548c76f0', 'content-type': 'application/x-amz-json-1.1', 'content-length': '134', 'date': 'Mon, 22 Apr 2024 10:35:57 GMT'}, 'RetryAttempts': 0}}\n"
     ]
    },
    {
     "data": {
      "text/plain": [
       "'facefusion-sagemaker-configuration2024-04-22-10-35-57'"
      ]
     },
     "execution_count": 18,
     "metadata": {},
     "output_type": "execute_result"
    }
   ],
   "source": [
    "create_endpoint_configuration()"
   ]
  },
  {
   "cell_type": "markdown",
   "id": "e6e35082",
   "metadata": {
    "tags": []
   },
   "source": [
    "### create endpoint"
   ]
  },
  {
   "cell_type": "code",
   "execution_count": 19,
   "id": "40abb7a9",
   "metadata": {},
   "outputs": [],
   "source": [
    "endpointName=\"facefusion-sagemaker-endpoint\"+strftime(\"%Y-%m-%d-%H-%M-%S\", gmtime())\n",
    "def create_endpoint():\n",
    "    create_endpoint_response = sm_client.create_endpoint(\n",
    "        EndpointName=endpointName,\n",
    "        #EndpointConfigName=\"facefusion-sagemaker-configuration2024-03-28-04-03-53\",\n",
    "        EndpointConfigName=endpointConfigName\n",
    "    )\n",
    "    print(\"Endpoint Arn: \" + create_endpoint_response[\"EndpointArn\"])\n",
    "    resp = sm_client.describe_endpoint(EndpointName=endpointName)\n",
    "    print(\"Endpoint Status: \" + resp[\"EndpointStatus\"])\n",
    "    print(\"Waiting for {} endpoint to be in service\".format(\"facefusion-sagemaker-endpoint\"))\n",
    "    waiter = sm_client.get_waiter(\"endpoint_in_service\")\n",
    "    waiter.wait(EndpointName=endpointName)"
   ]
  },
  {
   "cell_type": "code",
   "execution_count": 20,
   "id": "adeafb65",
   "metadata": {},
   "outputs": [
    {
     "name": "stdout",
     "output_type": "stream",
     "text": [
      "Endpoint Arn: arn:aws:sagemaker:us-west-2:687912291502:endpoint/facefusion-sagemaker-endpoint2024-04-22-10-35-57\n",
      "Endpoint Status: Creating\n",
      "Waiting for facefusion-sagemaker-endpoint endpoint to be in service\n"
     ]
    }
   ],
   "source": [
    "create_endpoint()"
   ]
  },
  {
   "cell_type": "markdown",
   "id": "3594fc7d",
   "metadata": {
    "jp-MarkdownHeadingCollapsed": true,
    "tags": []
   },
   "source": [
    "## Realtime inferecne with sagemaker endpoint"
   ]
  },
  {
   "cell_type": "code",
   "execution_count": null,
   "id": "3a4dae12",
   "metadata": {},
   "outputs": [],
   "source": [
    "import json\n",
    "runtime_sm_client = boto3.client(service_name=\"sagemaker-runtime\")\n",
    "#endpointName=\"facefusion-sagemaker-endpoint2024-04-03-23-49-44\"\n",
    "request = {\"method\":\"submit\",\"input\":['-s','s3://sagemaker-us-west-2-687912291502/images/image1.jpg',\n",
    "                                      '-t','s3://sagemaker-us-west-2-687912291502/video/test.mp4',\n",
    "                                      '-o','/tmp/','-u','s3://sagemaker-us-west-2-687912291502/video/test_out2.mp4',\n",
    "                                      '--headless'],}\n",
    "def invoke_endpoint():\n",
    "    content_type = \"application/json\"\n",
    "    request_body = request\n",
    "    payload = json.dumps(request_body)\n",
    "    print(payload)\n",
    "    response = runtime_sm_client.invoke_endpoint(\n",
    "        EndpointName=endpointName,\n",
    "        ContentType=content_type,\n",
    "        Body=payload,\n",
    "    )\n",
    "    result = response['Body'].read().decode()\n",
    "    print('返回：',result)"
   ]
  },
  {
   "cell_type": "code",
   "execution_count": null,
   "id": "b01f4489",
   "metadata": {
    "tags": []
   },
   "outputs": [],
   "source": [
    "response=invoke_endpoint()"
   ]
  },
  {
   "cell_type": "code",
   "execution_count": null,
   "id": "a6163197-db06-414a-88a5-b58d804a8e03",
   "metadata": {
    "tags": []
   },
   "outputs": [],
   "source": [
    "!aws s3 cp s3://sagemaker-us-west-2-687912291502/video/test_out2.mp4 ./"
   ]
  },
  {
   "cell_type": "markdown",
   "id": "5595ee01",
   "metadata": {
    "jp-MarkdownHeadingCollapsed": true,
    "tags": []
   },
   "source": [
    "## Async inference"
   ]
  },
  {
   "cell_type": "code",
   "execution_count": null,
   "id": "cd4b772d",
   "metadata": {},
   "outputs": [],
   "source": [
    "_time_tag = strftime(\"%Y-%m-%d-%H-%M-%S\", gmtime())\n",
    "_variant_name =  'facusion-'+ _time_tag\n",
    "endpoint_config_name = f'facefusion-{str(uuid.uuid4())}'\n",
    "\n",
    "response = client.create_endpoint_config(\n",
    "    EndpointConfigName=endpoint_config_name,\n",
    "    ProductionVariants=[\n",
    "        {\n",
    "            'VariantName': _variant_name,\n",
    "            'ModelName': model_name,\n",
    "            'InitialInstanceCount': 1,\n",
    "            'InstanceType': 'ml.c5.large',\n",
    "            'InitialVariantWeight': 1\n",
    "        },\n",
    "    ]\n",
    "    ,\n",
    "    AsyncInferenceConfig={\n",
    "        'OutputConfig': {\n",
    "            'S3OutputPath': f's3://{bucket}/stablediffusion/asyncinvoke/out/'\n",
    "        }\n",
    "    }\n",
    ")"
   ]
  },
  {
   "cell_type": "code",
   "execution_count": null,
   "id": "eb1ec780",
   "metadata": {},
   "outputs": [],
   "source": [
    "endpoint_name = f'facefusion-{str(uuid.uuid4())}'\n",
    "\n",
    "response = client.create_endpoint(\n",
    "    EndpointName=endpoint_name,\n",
    "    EndpointConfigName=\"endpoint_config_name\",\n",
    "    \n",
    ")\n",
    "\n",
    "print(f'终端节点:{endpoint_name} 正在创建中，首次启动中会加载模型，请耐心等待, 请在控制台上查看状态')\n"
   ]
  },
  {
   "cell_type": "code",
   "execution_count": null,
   "id": "5d745c1a",
   "metadata": {},
   "outputs": [],
   "source": [
    "import time\n",
    "def predict_async(endpoint_name,payload):\n",
    "    runtime_client = boto3.client('runtime.sagemaker')\n",
    "    input_file=str(uuid.uuid4())+\".json\"\n",
    "    s3_resource = boto3.resource('s3')\n",
    "    s3_object = s3_resource.Object(bucket, f'stablediffusion/asyncinvoke/input/{input_file}')\n",
    "    payload_data = json.dumps(payload).encode('utf-8')\n",
    "    s3_object.put( Body=bytes(payload_data))\n",
    "    input_location=f's3://{bucket}/stablediffusion/asyncinvoke/input/{input_file}'\n",
    "    print(f'input_location: {input_location}')\n",
    "    response = runtime_client.invoke_endpoint_async(\n",
    "        EndpointName=endpoint_name,\n",
    "        InputLocation=input_location\n",
    "    )\n",
    "    result =response.get(\"OutputLocation\",'')\n",
    "    wait_async_result(result)\n",
    "    \n",
    "def wait_async_result(output_location,timeout=60):\n",
    "    current_time=0\n",
    "    while current_time<timeout:\n",
    "        if s3_object_exists(output_location):\n",
    "            print(\"have async result\")\n",
    "            draw_image(output_location)\n",
    "            break\n",
    "        else:\n",
    "            time.sleep(5)\n",
    "def s3_object_exists(s3_path):\n",
    "    \"\"\"\n",
    "    s3_object_exists\n",
    "    \"\"\"\n",
    "    try:\n",
    "        s3 = boto3.client('s3')\n",
    "        base_name=os.path.basename(s3_path)\n",
    "        _,ext_name=os.path.splitext(base_name)\n",
    "        bucket,key=get_bucket_and_key(s3_path)\n",
    "        \n",
    "        s3.head_object(Bucket=bucket, Key=key)\n",
    "        return True\n",
    "    except Exception as ex:\n",
    "        print(\"job is not completed, waiting...\")   \n",
    "        return False"
   ]
  },
  {
   "cell_type": "markdown",
   "id": "08128c00",
   "metadata": {
    "tags": []
   },
   "source": [
    "## client lib test"
   ]
  },
  {
   "cell_type": "code",
   "execution_count": 1,
   "id": "17ce65e1-a285-4591-acb2-25d30b612038",
   "metadata": {},
   "outputs": [
    {
     "name": "stdout",
     "output_type": "stream",
     "text": [
      "{\"method\": \"submit\", \"input\": [\"-s\", \"s3://sagemaker-us-west-2-687912291502/images/image1.jpg\", \"-t\", \"s3://sagemaker-us-west-2-687912291502/video/test.mp4\", \"-o\", \"/tmp/output/51b25956fdc349109ebbe97c29c2d0b4-20240422110925.mp4\", \"-u\", \"s3://sagemaker-us-west-2-687912291502/video//51b25956fdc349109ebbe97c29c2d0b4-20240422110925.mp4\", \"--headless\"]}\n",
      "返回： {\"message\": \"Command executed in background\"}\n"
     ]
    }
   ],
   "source": [
    "from ModelClient import ModelClient\n",
    "client = ModelClient(\"facefusion-v2.2\")\n",
    "client.set_endpoint(\"facefusion-sagemaker-endpoint2024-04-22-10-35-57\")\n",
    "job_id=client.submit_job(\"test01\",swap_face_image_s3_path=\"s3://sagemaker-us-west-2-687912291502/images/image1.jpg\",\n",
    "                           source_video_s3_path='s3://sagemaker-us-west-2-687912291502/video/test.mp4',\n",
    "                           output_video_s3_dir='s3://sagemaker-us-west-2-687912291502/video/')\n",
    "\n",
    "\n"
   ]
  },
  {
   "cell_type": "code",
   "execution_count": 2,
   "id": "58e1129e-3945-4f57-af6e-31123ac2727f",
   "metadata": {
    "tags": []
   },
   "outputs": [
    {
     "data": {
      "text/plain": [
       "'not finished'"
      ]
     },
     "execution_count": 2,
     "metadata": {},
     "output_type": "execute_result"
    }
   ],
   "source": [
    "from ModelClient import ModelClient\n",
    "job_id=\"dcb8ade5ca60453183b3a4b62d81e2aa-20240422105156\"\n",
    "client = ModelClient(\"facefusion-v2.2\")\n",
    "client.set_endpoint(\"facefusion-sagemaker-endpoint2024-04-22-10-35-57\")\n",
    "status = client.get_status( \"test01\", job_id)\n",
    "status"
   ]
  },
  {
   "cell_type": "code",
   "execution_count": null,
   "id": "f7f97a26-599c-4afc-8493-36ff1df8720b",
   "metadata": {},
   "outputs": [],
   "source": [
    "response = client.get_result(job_id)"
   ]
  },
  {
   "cell_type": "code",
   "execution_count": null,
   "id": "7295909d-bc65-4fb6-8fff-a0fb11e48c86",
   "metadata": {},
   "outputs": [],
   "source": []
  }
 ],
 "metadata": {
  "kernelspec": {
   "display_name": "conda_python3",
   "language": "python",
   "name": "conda_python3"
  },
  "language_info": {
   "codemirror_mode": {
    "name": "ipython",
    "version": 3
   },
   "file_extension": ".py",
   "mimetype": "text/x-python",
   "name": "python",
   "nbconvert_exporter": "python",
   "pygments_lexer": "ipython3",
   "version": "3.10.12"
  }
 },
 "nbformat": 4,
 "nbformat_minor": 5
}
