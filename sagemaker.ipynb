{
 "cells": [
  {
   "cell_type": "markdown",
   "id": "096b3004",
   "metadata": {},
   "source": [
    "# Facefusion on Sagemaker"
   ]
  },
  {
   "cell_type": "markdown",
   "id": "21ec2e51",
   "metadata": {},
   "source": [
    "## build image"
   ]
  },
  {
   "cell_type": "code",
   "execution_count": null,
   "id": "66539e45",
   "metadata": {},
   "outputs": [],
   "source": [
    "# Build an image that can do training and inference in SageMaker\n",
    "# This is a Python 3 image that uses the nginx, gunicorn, flask stack\n",
    "# for serving inferences in a stable way.\n",
    "\n",
    "# FROM pytorch/pytorch:2.1.0-cuda11.8-cudnn8-devel\n",
    "# FROM 763104351884.dkr.ecr.us-east-1.amazonaws.com/pytorch-inference:2.1.0-cpu-py310-ubuntu20.04-ec2\n",
    "# FROM 763104351884.dkr.ecr.us-east-1.amazonaws.com/pytorch-inference:2.1.0-gpu-py310-cu118-ubuntu20.04-ec2\n",
    "# FROM 763104351884.dkr.ecr.us-east-1.amazonaws.com/pytorch-inference:1.13.1-gpu-py39-cu117-ubuntu20.04-ec2\n",
    "# ref from https://github.com/facefusion/facefusion-docker\n",
    "FROM python:3.10\n",
    "ARG DEBIAN_FRONTEND=noninteractive\n",
    "ARG FACEFUSION_VERSION=2.3.0\n",
    "ENV GRADIO_SERVER_NAME=0.0.0.0\n",
    "ENV PYTHONUNBUFFERED=TRUE\n",
    "ENV PYTHONDONTWRITEBYTECODE=TRUE\n",
    "ENV PATH=\"/opt/program:${PATH}\"\n",
    "\n",
    "\n",
    "WORKDIR /opt/program\n",
    "\n",
    "RUN apt-get update\n",
    "RUN apt-get install curl -y\n",
    "RUN apt-get install ffmpeg -y\n",
    "\n",
    "##安装sagemaker endpoint所需的组件\n",
    "RUN apt-get install nginx -y  \n",
    "RUN pip install --no-cache-dir boto3 flask gunicorn\n",
    "# RUN git clone https://github.com/facefusion/facefusion.git --branch ${FACEFUSION_VERSION} --single-branch .\n",
    "##拷贝包含sagemaker endpoint所需的python和配置文件\n",
    "COPY facefusion /opt/program\n",
    "RUN python install.py --torch cpu --onnxruntime default\n",
    "\n",
    "WORKDIR /opt/program"
   ]
  },
  {
   "cell_type": "code",
   "execution_count": null,
   "id": "07fd36b7",
   "metadata": {},
   "outputs": [],
   "source": [
    "# 在 Facefusion-Sagemaker-Studio-Lab 目录执行如下命令，如上docker file是已CPU举例的，可以修改使用GPU 可以参考gpu_Dockerfile\n",
    "./build_and_push.sh faces-swap-on-sagemaker"
   ]
  },
  {
   "cell_type": "markdown",
   "id": "a54bf5b1",
   "metadata": {},
   "source": [
    "## local test"
   ]
  },
  {
   "cell_type": "code",
   "execution_count": null,
   "id": "7f9f16a0",
   "metadata": {},
   "outputs": [],
   "source": [
    "# 镜像构建完毕后，使用如下命令在Facefusion-Sagemaker-Studio-Lab目录执行,本地启动docker 镜像\n",
    "./local_test/serve_local.sh facefusion-sagemaker"
   ]
  },
  {
   "cell_type": "code",
   "execution_count": null,
   "id": "d1d6e346",
   "metadata": {},
   "outputs": [],
   "source": [
    "# 新建CLI终端执行如下命令用于本地测试\n",
    "curl -XPOST localhost:8080/invocations  -H 'content-type:application/json'  -d '{\"input\":\"python run.py -s image1.jpg -t test.mp4 -o . --headless\"}'"
   ]
  },
  {
   "cell_type": "markdown",
   "id": "a1663aa2",
   "metadata": {},
   "source": [
    "## create sagemaker model"
   ]
  },
  {
   "cell_type": "code",
   "execution_count": null,
   "id": "3623fcd0",
   "metadata": {},
   "outputs": [],
   "source": [
    "import boto3\n",
    "import re\n",
    "import os\n",
    "import json\n",
    "import uuid\n",
    "import boto3\n",
    "import sagemaker\n",
    "from time import gmtime, strftime\n",
    "\n",
    "from sagemaker import get_execution_role,session\n",
    "\n",
    "role = get_execution_role()\n",
    "sm_client = boto3.client(service_name='sagemaker')\n",
    "\n",
    "def create_model():\n",
    "    role_arn = \"arn:aws:iam::517141035927:role/vis-search-Role-1TOLNTF2IOGEC\"\n",
    "#     image = \"{}.dkr.ecr.{}.amazon.com/{}:latest\".format(\n",
    "#         \"<profile>\", \"<region>\", \"<image-name>\"\n",
    "#     )\n",
    "    image=\"517141035927.dkr.ecr.us-west-2.amazonaws.com/facefusion-sagemaker\"\n",
    "    create_model_response = sm_client.create_model(\n",
    "        ModelName=\"facefusion-sagemaker-01\"+strftime(\"%Y-%m-%d-%H-%M-%S\", gmtime()),\n",
    "        ExecutionRoleArn=role_arn,\n",
    "        Containers=[{\"Image\": image}],\n",
    "    )\n",
    "    print(create_model_response)"
   ]
  },
  {
   "cell_type": "code",
   "execution_count": null,
   "id": "e913d8d0",
   "metadata": {},
   "outputs": [],
   "source": [
    "create_model()"
   ]
  },
  {
   "cell_type": "markdown",
   "id": "4159960d",
   "metadata": {},
   "source": [
    "## create endpoint configuration"
   ]
  },
  {
   "cell_type": "code",
   "execution_count": null,
   "id": "01b4ba47",
   "metadata": {},
   "outputs": [],
   "source": [
    "def create_endpoint_configuration():\n",
    "    create_endpoint_config_response = sm_client.create_endpoint_config(\n",
    "        EndpointConfigName=\"facefusion-sagemaker-configuration\"+strftime(\"%Y-%m-%d-%H-%M-%S\", gmtime()),\n",
    "        ProductionVariants=[\n",
    "            {\n",
    "                \"ModelName\":\"facefusion-sagemaker-012024-03-08-13-31-28\",\n",
    "                \"VariantName\": \"facefusion-sagemaker-012024-03-08-13-31-28\"+\"-variant\",\n",
    "                \"ServerlessConfig\": {\n",
    "                    \"MemorySizeInMB\": 2048,\n",
    "                    \"MaxConcurrency\": 1,\n",
    "                },\n",
    "            }\n",
    "        ],\n",
    "    )\n",
    "    print(create_endpoint_config_response)"
   ]
  },
  {
   "cell_type": "code",
   "execution_count": null,
   "id": "d06fb9ae",
   "metadata": {},
   "outputs": [],
   "source": [
    "create_endpoint_configuration()"
   ]
  },
  {
   "cell_type": "markdown",
   "id": "e6e35082",
   "metadata": {},
   "source": [
    "## create endpoint"
   ]
  },
  {
   "cell_type": "code",
   "execution_count": null,
   "id": "40abb7a9",
   "metadata": {},
   "outputs": [],
   "source": [
    "def create_endpoint():\n",
    "    create_endpoint_response = sm_client.create_endpoint(\n",
    "        EndpointName=\"facefusion-sagemaker-endpoint\",\n",
    "        EndpointConfigName=\"facefusion-sagemaker-configuration2024-03-08-13-31-52\",\n",
    "    )\n",
    "    print(\"Endpoint Arn: \" + create_endpoint_response[\"EndpointArn\"])\n",
    "    resp = sm_client.describe_endpoint(EndpointName=\"facefusion-sagemaker-endpoint\")\n",
    "    print(\"Endpoint Status: \" + resp[\"EndpointStatus\"])\n",
    "    print(\"Waiting for {} endpoint to be in service\".format(\"facefusion-sagemaker-endpoint\"))\n",
    "    waiter = sm_client.get_waiter(\"endpoint_in_service\")\n",
    "    waiter.wait(EndpointName=\"facefusion-sagemaker-endpoint\")"
   ]
  },
  {
   "cell_type": "code",
   "execution_count": null,
   "id": "adeafb65",
   "metadata": {},
   "outputs": [],
   "source": [
    "create_endpoint()"
   ]
  },
  {
   "cell_type": "markdown",
   "id": "3594fc7d",
   "metadata": {},
   "source": [
    "## Realtime inferecne with sagemaker endpoint"
   ]
  },
  {
   "cell_type": "code",
   "execution_count": null,
   "id": "3a4dae12",
   "metadata": {},
   "outputs": [],
   "source": [
    "import json\n",
    "runtime_sm_client = boto3.client(service_name=\"sagemaker-runtime\")\n",
    "\n",
    "def invoke_endpoint():\n",
    "    content_type = \"application/json\"\n",
    "#     request_body = {\"input\":['-s', 'taotao.jpeg', '-t', 'lht.jpg', '-o', '.', '--headless']} ##输入是s3地址\n",
    "    request_body = {\"input\":'-s image1.jpg -t test.mp4 -o s3://sagemaker-us-west-2-687912291502/video/test_out.mp4 --headless',\n",
    "                    \"method\":\"submit\"}\n",
    "    #request_body = {\"input\":'s3://sagemaker-us-west-2-687912291502/video/test_out.mp4',\n",
    "    #                \"method\":\"status\"}\n",
    "    #request_body = {\"input\":'s3://sagemaker-us-west-2-687912291502/video/test_out.mp4',\n",
    "    #                \"method\":\"get_result\"}\n",
    "    payload = json.dumps(request_body)\n",
    "    print(payload)\n",
    "    response = runtime_sm_client.invoke_endpoint(\n",
    "        EndpointName=\"facefusion-sagemaker-endpoint\",\n",
    "        ContentType=content_type,\n",
    "        Body=payload,\n",
    "    )\n",
    "    print(response)\n",
    "    result = json.loads(response[\"Body\"].read().decode())\n",
    "    print('返回：',result)"
   ]
  },
  {
   "cell_type": "code",
   "execution_count": null,
   "id": "b01f4489",
   "metadata": {},
   "outputs": [],
   "source": [
    "invoke_endpoint()"
   ]
  },
  {
   "cell_type": "markdown",
   "id": "5595ee01",
   "metadata": {},
   "source": [
    "## Async inference"
   ]
  },
  {
   "cell_type": "code",
   "execution_count": null,
   "id": "e9979555",
   "metadata": {},
   "outputs": [],
   "source": [
    "import re\n",
    "import os\n",
    "import json\n",
    "import uuid\n",
    "import boto3\n",
    "import sagemaker\n",
    "from time import gmtime, strftime\n",
    "\n",
    "from sagemaker import get_execution_role,session\n",
    "\n",
    "role = get_execution_role()\n",
    "\n",
    "\n",
    "sage_session = session.Session()\n",
    "bucket = sage_session.default_bucket()\n",
    "aws_region = boto3.Session().region_name\n",
    "client = boto3.client('sagemaker')\n",
    "\n",
    "print(f'sagemaker sdk version: {sagemaker.__version__}\\nrole:  {role}  \\nbucket:  {bucket}')"
   ]
  },
  {
   "cell_type": "code",
   "execution_count": null,
   "id": "5ca86520",
   "metadata": {},
   "outputs": [],
   "source": [
    "\n",
    "boto3_session = boto3.session.Session()\n",
    "current_region=boto3_session.region_name\n",
    "\n",
    "client = boto3.client(\"sts\")\n",
    "account_id=client.get_caller_identity()[\"Account\"]\n",
    "\n",
    "client = boto3.client('sagemaker')\n",
    "\n",
    "#使用步骤2编译好的docker images\n",
    "container = '517141035927.dkr.ecr.us-west-2.amazonaws.com/facefusion-sagemaker'\n",
    "\n",
    "role_arn = \"arn:aws:iam::517141035927:role/vis-search-Role-1TOLNTF2IOGEC\"\n",
    "model_name = 'facefusion-' +  strftime(\"%Y-%m-%d-%H-%M-%S\", gmtime())\n",
    "image=\"517141035927.dkr.ecr.us-west-2.amazonaws.com/facefusion-sagemaker\"\n",
    "create_model_response = client.create_model(\n",
    "        ModelName=model_name,\n",
    "        ExecutionRoleArn=role_arn,\n",
    "        Containers=[{\"Image\": image}],\n",
    "    )\n",
    "    \n",
    "\n",
    "# model_name = 'AIGC-Quick-Kit-' +  strftime(\"%Y-%m-%d-%H-%M-%S\", gmtime())\n",
    "# role = get_execution_role()\n",
    "# model_data = f's3://{bucket}/stablediffusion/assets/model.tar.gz'\n",
    "# primary_container = {\n",
    "#     'Image': container,\n",
    "#     'ModelDataUrl': model_data,\n",
    "#     'Environment':{\n",
    "#         's3_bucket': bucket,\n",
    "#         'model_name':'runwayml/stable-diffusion-v1-5' #默认为runwayml/stable-diffusion-v1-5\n",
    "#     }\n",
    "# }\n",
    "\n",
    "# create_model_response = client.create_model(\n",
    "#     ModelName = model_name,\n",
    "#     ExecutionRoleArn = role,\n",
    "#     PrimaryContainer = primary_container,"
   ]
  },
  {
   "cell_type": "code",
   "execution_count": null,
   "id": "cd4b772d",
   "metadata": {},
   "outputs": [],
   "source": [
    "_time_tag = strftime(\"%Y-%m-%d-%H-%M-%S\", gmtime())\n",
    "_variant_name =  'facusion-'+ _time_tag\n",
    "endpoint_config_name = f'facefusion-{str(uuid.uuid4())}'\n",
    "\n",
    "response = client.create_endpoint_config(\n",
    "    EndpointConfigName=endpoint_config_name,\n",
    "    ProductionVariants=[\n",
    "        {\n",
    "            'VariantName': _variant_name,\n",
    "            'ModelName': model_name,\n",
    "            'InitialInstanceCount': 1,\n",
    "            'InstanceType': 'ml.c5.large',\n",
    "            'InitialVariantWeight': 1\n",
    "        },\n",
    "    ]\n",
    "    ,\n",
    "    AsyncInferenceConfig={\n",
    "        'OutputConfig': {\n",
    "            'S3OutputPath': f's3://{bucket}/stablediffusion/asyncinvoke/out/'\n",
    "        }\n",
    "    }\n",
    ")"
   ]
  },
  {
   "cell_type": "code",
   "execution_count": null,
   "id": "eb1ec780",
   "metadata": {},
   "outputs": [],
   "source": [
    "endpoint_name = f'facefusion-{str(uuid.uuid4())}'\n",
    "\n",
    "response = client.create_endpoint(\n",
    "    EndpointName=endpoint_name,\n",
    "    EndpointConfigName=\"endpoint_config_name\",\n",
    "    \n",
    ")\n",
    "\n",
    "print(f'终端节点:{endpoint_name} 正在创建中，首次启动中会加载模型，请耐心等待, 请在控制台上查看状态')\n"
   ]
  },
  {
   "cell_type": "code",
   "execution_count": null,
   "id": "5d745c1a",
   "metadata": {},
   "outputs": [],
   "source": [
    "import time\n",
    "def predict_async(endpoint_name,payload):\n",
    "    runtime_client = boto3.client('runtime.sagemaker')\n",
    "    input_file=str(uuid.uuid4())+\".json\"\n",
    "    s3_resource = boto3.resource('s3')\n",
    "    s3_object = s3_resource.Object(bucket, f'stablediffusion/asyncinvoke/input/{input_file}')\n",
    "    payload_data = json.dumps(payload).encode('utf-8')\n",
    "    s3_object.put( Body=bytes(payload_data))\n",
    "    input_location=f's3://{bucket}/stablediffusion/asyncinvoke/input/{input_file}'\n",
    "    print(f'input_location: {input_location}')\n",
    "    response = runtime_client.invoke_endpoint_async(\n",
    "        EndpointName=endpoint_name,\n",
    "        InputLocation=input_location\n",
    "    )\n",
    "    result =response.get(\"OutputLocation\",'')\n",
    "    wait_async_result(result)\n",
    "    \n",
    "def wait_async_result(output_location,timeout=60):\n",
    "    current_time=0\n",
    "    while current_time<timeout:\n",
    "        if s3_object_exists(output_location):\n",
    "            print(\"have async result\")\n",
    "            draw_image(output_location)\n",
    "            break\n",
    "        else:\n",
    "            time.sleep(5)\n",
    "def s3_object_exists(s3_path):\n",
    "    \"\"\"\n",
    "    s3_object_exists\n",
    "    \"\"\"\n",
    "    try:\n",
    "        s3 = boto3.client('s3')\n",
    "        base_name=os.path.basename(s3_path)\n",
    "        _,ext_name=os.path.splitext(base_name)\n",
    "        bucket,key=get_bucket_and_key(s3_path)\n",
    "        \n",
    "        s3.head_object(Bucket=bucket, Key=key)\n",
    "        return True\n",
    "    except Exception as ex:\n",
    "        print(\"job is not completed, waiting...\")   \n",
    "        return False"
   ]
  },
  {
   "cell_type": "markdown",
   "id": "08128c00",
   "metadata": {},
   "source": [
    "### test"
   ]
  },
  {
   "cell_type": "code",
   "execution_count": null,
   "id": "fe9a455c",
   "metadata": {},
   "outputs": [],
   "source": [
    "endpoint_name=\"facefusion-971153c4-297d-41e6-b952-cf0e8b9e3956\"\n",
    "payload='{\"input\":\"python run.py -s 1.jpg -t test.mp4 -o . --headless\"}'\n",
    "predict_async(endpoint_name,payload)"
   ]
  },
  {
   "cell_type": "markdown",
   "id": "24a271a6",
   "metadata": {},
   "source": [
    "## create all resouces with cdk"
   ]
  },
  {
   "cell_type": "code",
   "execution_count": null,
   "id": "5eee5040",
   "metadata": {},
   "outputs": [],
   "source": [
    "from aws_cdk import core\n",
    "from aws_cdk.aws_iam import Role, ManagedPolicy, ServicePrincipal\n",
    "from aws_cdk.aws_sagemaker import CfnModel, CfnEndpointConfig, CfnEndpoint\n",
    "\n",
    "\n",
    "class SageMakerStack(core.Stack):\n",
    "    def __init__(\n",
    "        self,\n",
    "        scope: core.Construct,\n",
    "        id_: str,\n",
    "        env: core.Environment,\n",
    "    ) -> None:\n",
    "        super().__init__(scope=scope, id=id_, env=env)\n",
    "        self.env = env\n",
    "\n",
    "    def create_model(\n",
    "        self,\n",
    "        id_: str,\n",
    "        model_name: str,\n",
    "        image_name: str,\n",
    "    ) -> CfnModel:\n",
    "        role = Role(\n",
    "            self,\n",
    "            id=f\"{id_}-SageMakerRole\",\n",
    "            role_name=f\"{id_}-SageMakerRole\",\n",
    "            assumed_by=ServicePrincipal(\"sagemaker.amazonaws.com\"),\n",
    "            managed_policies=[\n",
    "                ManagedPolicy.from_aws_managed_policy_name(\"AmazonSageMakerFullAccess\")\n",
    "            ],\n",
    "        )\n",
    "        container = CfnModel.ContainerDefinitionProperty(\n",
    "            container_hostname=\"<container-hostname>\",\n",
    "            image=\"{}.dkr.ecr.eu-west-1.amazonaws.com/{}:latest\".format(\n",
    "                self.env.account, image_name\n",
    "            ),\n",
    "        )\n",
    "        return CfnModel(\n",
    "            self,\n",
    "            id=f\"{id_}-SageMakerModel\",\n",
    "            model_name=model_name,\n",
    "            execution_role_arn=role.role_arn,\n",
    "            containers=[container],\n",
    "        )\n",
    "\n",
    "    def create_endpoint_configuration(\n",
    "        self,\n",
    "        id_: str,\n",
    "        model_name: str,\n",
    "        endpoint_configuration_name: str,\n",
    "    ) -> CfnEndpointConfig:\n",
    "        return CfnEndpointConfig(\n",
    "            self,\n",
    "            id=f\"{id_}-SageMakerEndpointConfiguration\",\n",
    "            endpoint_config_name=endpoint_configuration_name,\n",
    "            production_variants=[\n",
    "                CfnEndpointConfig.ProductionVariantProperty(\n",
    "                    model_name=model_name,\n",
    "                    initial_variant_weight=1.0,\n",
    "                    variant_name=\"AllTraffic\",\n",
    "                    serverless_config=CfnEndpointConfig.ServerlessConfigProperty(\n",
    "                        max_concurrency=1,\n",
    "                        memory_size_in_mb=2048,\n",
    "                    ),\n",
    "                )\n",
    "            ],\n",
    "        )\n",
    "\n",
    "    def create_endpoint(\n",
    "        self,\n",
    "        id_: str,\n",
    "        endpoint_configuration_name: str,\n",
    "        endpoint_name: str,\n",
    "    ) -> CfnEndpoint:\n",
    "        return CfnEndpoint(\n",
    "            self,\n",
    "            id=f\"{id_}-SageMakerEndpoint\",\n",
    "            endpoint_config_name=endpoint_configuration_name,\n",
    "            endpoint_name=endpoint_name,\n",
    "        )"
   ]
  },
  {
   "cell_type": "markdown",
   "id": "27585b01",
   "metadata": {},
   "source": [
    "## deploy model with cdk"
   ]
  },
  {
   "cell_type": "code",
   "execution_count": null,
   "id": "0f1aaa0a",
   "metadata": {},
   "outputs": [],
   "source": [
    "from aws_cdk import core\n",
    "from stacks.sagemaker import SageMakerStack\n",
    "\n",
    "\n",
    "class SimpleExampleApp(core.App):\n",
    "\n",
    "    def __init__(self) -> None:\n",
    "        super().__init__()\n",
    "        env = core.Environment(\n",
    "            account=\"<account>\",\n",
    "            region=\"<region>\",\n",
    "        )\n",
    "\n",
    "        sagemaker = SageMakerStack(\n",
    "            scope=self,\n",
    "            id_=\"app-sagemaker-stack\",\n",
    "            env=env,\n",
    "        )\n",
    "        model = sagemaker.create_model(\n",
    "            id_=\"AppModel\",\n",
    "            model_name=\"<model-name>\",\n",
    "            image_name=\"<image-name>\",\n",
    "        )\n",
    "        endpoint_config = sagemaker.create_endpoint_configuration(\n",
    "            id_=\"AppEndpointConfiguration\",\n",
    "            model_name=\"<model-name>\",\n",
    "            endpoint_configuration_name=\"app-endpoint-configuration\",\n",
    "        )\n",
    "        endpoint_config.add_depends_on(model)\n",
    "        endpoint = sagemaker.create_endpoint(\n",
    "            id_=\"AppEndpoint\",\n",
    "            endpoint_configuration_name=\"app-endpoint-configuration\",\n",
    "            endpoint_name=\"app-endpoint\",\n",
    "        )\n",
    "        endpoint.add_depends_on(endpoint_config)\n",
    "\n",
    "simple_app = SimpleExampleApp()\n",
    "simple_app.synth()"
   ]
  }
 ],
 "metadata": {
  "kernelspec": {
   "display_name": "conda_tensorflow2_p310",
   "language": "python",
   "name": "conda_tensorflow2_p310"
  },
  "language_info": {
   "codemirror_mode": {
    "name": "ipython",
    "version": 3
   },
   "file_extension": ".py",
   "mimetype": "text/x-python",
   "name": "python",
   "nbconvert_exporter": "python",
   "pygments_lexer": "ipython3",
   "version": "3.10.12"
  }
 },
 "nbformat": 4,
 "nbformat_minor": 5
}
